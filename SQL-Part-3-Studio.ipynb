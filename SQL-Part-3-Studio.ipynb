{
    "metadata": {
        "kernelspec": {
            "name": "SQL",
            "display_name": "SQL",
            "language": "sql"
        },
        "language_info": {
            "name": "sql",
            "version": ""
        },
        "extensions": {
            "azuredatastudio": {
                "version": 1,
                "views": []
            }
        }
    },
    "nbformat_minor": 2,
    "nbformat": 4,
    "cells": [
        {
            "cell_type": "markdown",
            "source": [
                "# SQL Part 3 Studio\n",
                "\n",
                "### Let's practice your SQL quering skills!  For each question, work along in the notebook adding your query and answering the questions. \n",
                "\n",
                "### **DataSet**\n",
                "\n",
                "### <span style=\"font-size: 14px; font-family: -apple-system, BlinkMacSystemFont, sans-serif;\">We will be using the Goodbooks-10k dataset from the exercises in the prep work.&nbsp; Feel free reference your previous notebooks.</span>\n",
                "\n",
                "- The dataset can be found here: [goodbooks-10k](https://www.kaggle.com/zygmunt/goodbooks-10k)\n",
                "- You can access the **BooksDB** in the Launchcode server.\n",
                "\n",
                "### **Business Issue**\n",
                "\n",
                "You are an employee at a small independet bookstore and you have been tasked to increase sales.  You decide to use the BooksDB to find books and themes to highlight in fun promotions throughout each month / season.  We will be starting with March and then you will have a chance to explore another month of your choosing.  We want to come up with a list of events/ promotions to run each month.  If you are looking for ideas to include in your promotions:\n",
                "\n",
                "- [https://www.calendarr.com/united-states/calendar-2022/](https://www.calendarr.com/united-states/calendar-2022/)\n",
                "- [https://www.holidayinsights.com/moreholidays/](https://www.holidayinsights.com/moreholidays/)\n",
                "    - Click on a month and it will take you to a more detailed page"
            ],
            "metadata": {
                "azdata_cell_guid": "b9034d8a-b631-48bf-a895-1012a6ffa784"
            },
            "attachments": {}
        },
        {
            "cell_type": "markdown",
            "source": [
                "## Part 1:  March - Women's History Month, Dr Seuss Day(3/2), National Pie Day3/14, St Patrick's Day (3/17), Season - Spring"
            ],
            "metadata": {
                "azdata_cell_guid": "6e55eb1c-4a14-4076-90d2-95ed17a6309f"
            },
            "attachments": {}
        },
        {
            "cell_type": "markdown",
            "source": [
                "### **Event 1:** Women's History Month\n",
                "\n",
                "Goal: Highlight Popular Womans Authors based on ratings from the Good Reads DB.\n",
                "\n",
                "### **Write a query that returns tag\\_id, the number of times each tag\\_id is used and the tag\\_name.**  \n",
                "\n",
                "### Use the GROUP BY and HAVING clause to narrow your focus.\n",
                "\n",
                "Try multiple keywords, ie woman vs female (female ended up giving better results)"
            ],
            "metadata": {
                "azdata_cell_guid": "d220c097-e9cf-4edd-9abe-312d071217b7"
            },
            "attachments": {}
        },
        {
            "cell_type": "code",
            "source": [
                "-- Solution\r\n",
                "SELECT bt.tag_id, t.tag_name, COUNT(*) AS Total\r\n",
                "FROM BooksDB.dbo.tags AS t \r\n",
                "JOIN BooksDB.dbo.book_tags AS bt\r\n",
                "ON t.tag_id = bt.tag_id\r\n",
                "GROUP BY t.tag_name, bt.tag_id\r\n",
                "HAVING t.tag_name LIKE '%female%'\r\n",
                "ORDER by Total DESC;"
            ],
            "metadata": {
                "azdata_cell_guid": "e31b9d26-0386-44c7-828e-85f4f06f3ee6",
                "language": "sql",
                "tags": []
            },
            "outputs": [
                {
                    "output_type": "display_data",
                    "data": {
                        "text/html": "(35 rows affected)"
                    },
                    "metadata": {}
                },
                {
                    "output_type": "display_data",
                    "data": {
                        "text/html": "Total execution time: 00:00:00.280"
                    },
                    "metadata": {}
                },
                {
                    "output_type": "execute_result",
                    "metadata": {},
                    "execution_count": 116,
                    "data": {
                        "application/vnd.dataresource+json": {
                            "schema": {
                                "fields": [
                                    {
                                        "name": "tag_id"
                                    },
                                    {
                                        "name": "tag_name"
                                    },
                                    {
                                        "name": "Total"
                                    }
                                ]
                            },
                            "data": [
                                {
                                    "0": "11643",
                                    "1": "female-author",
                                    "2": "997"
                                },
                                {
                                    "0": "11644",
                                    "1": "female-authors",
                                    "2": "721"
                                },
                                {
                                    "0": "11658",
                                    "1": "female-protagonist",
                                    "2": "171"
                                },
                                {
                                    "0": "11646",
                                    "1": "female-detective",
                                    "2": "32"
                                },
                                {
                                    "0": "11662",
                                    "1": "female-writers",
                                    "2": "18"
                                },
                                {
                                    "0": "11642",
                                    "1": "female",
                                    "2": "17"
                                },
                                {
                                    "0": "11656",
                                    "1": "female-pov",
                                    "2": "17"
                                },
                                {
                                    "0": "11652",
                                    "1": "female-lead",
                                    "2": "14"
                                },
                                {
                                    "0": "3514",
                                    "1": "author-female",
                                    "2": "12"
                                },
                                {
                                    "0": "28834",
                                    "1": "strong-female-lead",
                                    "2": "10"
                                },
                                {
                                    "0": "11647",
                                    "1": "female-detectives",
                                    "2": "9"
                                },
                                {
                                    "0": "11650",
                                    "1": "female-friendship",
                                    "2": "4"
                                },
                                {
                                    "0": "28830",
                                    "1": "strong-female",
                                    "2": "4"
                                },
                                {
                                    "0": "28833",
                                    "1": "strong-female-characters",
                                    "2": "3"
                                },
                                {
                                    "0": "11645",
                                    "1": "female-biographies",
                                    "2": "2"
                                },
                                {
                                    "0": "1741",
                                    "1": "afghan-female-entrepreneur-under-ta",
                                    "2": "1"
                                },
                                {
                                    "0": "4309",
                                    "1": "best-adult-female-friendship-books",
                                    "2": "1"
                                },
                                {
                                    "0": "11648",
                                    "1": "female-doctor",
                                    "2": "1"
                                },
                                {
                                    "0": "11649",
                                    "1": "female-fiction",
                                    "2": "1"
                                },
                                {
                                    "0": "11651",
                                    "1": "female-genre-authors",
                                    "2": "1"
                                },
                                {
                                    "0": "11653",
                                    "1": "female-main-character",
                                    "2": "1"
                                },
                                {
                                    "0": "11654",
                                    "1": "female-persuasion",
                                    "2": "1"
                                },
                                {
                                    "0": "11655",
                                    "1": "female-pi",
                                    "2": "1"
                                },
                                {
                                    "0": "11657",
                                    "1": "female-povs",
                                    "2": "1"
                                },
                                {
                                    "0": "11659",
                                    "1": "female-serial-killer",
                                    "2": "1"
                                },
                                {
                                    "0": "11660",
                                    "1": "female-spy",
                                    "2": "1"
                                },
                                {
                                    "0": "11661",
                                    "1": "female-writer",
                                    "2": "1"
                                },
                                {
                                    "0": "15331",
                                    "1": "important-female-authors",
                                    "2": "1"
                                },
                                {
                                    "0": "17079",
                                    "1": "kick-ass-female",
                                    "2": "1"
                                },
                                {
                                    "0": "24455",
                                    "1": "protagonist-female",
                                    "2": "1"
                                },
                                {
                                    "0": "28831",
                                    "1": "strong-female-character",
                                    "2": "1"
                                },
                                {
                                    "0": "28832",
                                    "1": "strong-female-character-s",
                                    "2": "1"
                                },
                                {
                                    "0": "28835",
                                    "1": "strong-female-protagonist",
                                    "2": "1"
                                },
                                {
                                    "0": "28836",
                                    "1": "strong-female-supporting-characters",
                                    "2": "1"
                                },
                                {
                                    "0": "29324",
                                    "1": "tbr-ax-female",
                                    "2": "1"
                                }
                            ]
                        },
                        "text/html": [
                            "<table>",
                            "<tr><th>tag_id</th><th>tag_name</th><th>Total</th></tr>",
                            "<tr><td>11643</td><td>female-author</td><td>997</td></tr>",
                            "<tr><td>11644</td><td>female-authors</td><td>721</td></tr>",
                            "<tr><td>11658</td><td>female-protagonist</td><td>171</td></tr>",
                            "<tr><td>11646</td><td>female-detective</td><td>32</td></tr>",
                            "<tr><td>11662</td><td>female-writers</td><td>18</td></tr>",
                            "<tr><td>11642</td><td>female</td><td>17</td></tr>",
                            "<tr><td>11656</td><td>female-pov</td><td>17</td></tr>",
                            "<tr><td>11652</td><td>female-lead</td><td>14</td></tr>",
                            "<tr><td>3514</td><td>author-female</td><td>12</td></tr>",
                            "<tr><td>28834</td><td>strong-female-lead</td><td>10</td></tr>",
                            "<tr><td>11647</td><td>female-detectives</td><td>9</td></tr>",
                            "<tr><td>11650</td><td>female-friendship</td><td>4</td></tr>",
                            "<tr><td>28830</td><td>strong-female</td><td>4</td></tr>",
                            "<tr><td>28833</td><td>strong-female-characters</td><td>3</td></tr>",
                            "<tr><td>11645</td><td>female-biographies</td><td>2</td></tr>",
                            "<tr><td>1741</td><td>afghan-female-entrepreneur-under-ta</td><td>1</td></tr>",
                            "<tr><td>4309</td><td>best-adult-female-friendship-books</td><td>1</td></tr>",
                            "<tr><td>11648</td><td>female-doctor</td><td>1</td></tr>",
                            "<tr><td>11649</td><td>female-fiction</td><td>1</td></tr>",
                            "<tr><td>11651</td><td>female-genre-authors</td><td>1</td></tr>",
                            "<tr><td>11653</td><td>female-main-character</td><td>1</td></tr>",
                            "<tr><td>11654</td><td>female-persuasion</td><td>1</td></tr>",
                            "<tr><td>11655</td><td>female-pi</td><td>1</td></tr>",
                            "<tr><td>11657</td><td>female-povs</td><td>1</td></tr>",
                            "<tr><td>11659</td><td>female-serial-killer</td><td>1</td></tr>",
                            "<tr><td>11660</td><td>female-spy</td><td>1</td></tr>",
                            "<tr><td>11661</td><td>female-writer</td><td>1</td></tr>",
                            "<tr><td>15331</td><td>important-female-authors</td><td>1</td></tr>",
                            "<tr><td>17079</td><td>kick-ass-female</td><td>1</td></tr>",
                            "<tr><td>24455</td><td>protagonist-female</td><td>1</td></tr>",
                            "<tr><td>28831</td><td>strong-female-character</td><td>1</td></tr>",
                            "<tr><td>28832</td><td>strong-female-character-s</td><td>1</td></tr>",
                            "<tr><td>28835</td><td>strong-female-protagonist</td><td>1</td></tr>",
                            "<tr><td>28836</td><td>strong-female-supporting-characters</td><td>1</td></tr>",
                            "<tr><td>29324</td><td>tbr-ax-female</td><td>1</td></tr>",
                            "</table>"
                        ]
                    }
                }
            ],
            "execution_count": 116
        },
        {
            "cell_type": "markdown",
            "source": [
                "### **Which keyword(s) and tag(s) would you like to explore more?**\n",
                "\n",
                "female-author"
            ],
            "metadata": {
                "azdata_cell_guid": "e9acd8b5-a62b-4ac0-bd07-19915b379ba6"
            },
            "attachments": {}
        },
        {
            "cell_type": "markdown",
            "source": [
                "### **Write a query to return authors, titles, ratings and** **selected tag(s)\\_id.**"
            ],
            "metadata": {
                "azdata_cell_guid": "59b84464-c0bc-4dac-9e02-0c803765b063"
            },
            "attachments": {}
        },
        {
            "cell_type": "code",
            "source": [
                "-- Solution\r\n",
                "SELECT b.authors, b.title, b.average_rating, bt.tag_id\r\n",
                "FROM BooksDB.dbo.books as b \r\n",
                "JOIN BooksDB.dbo.book_tags as bt \r\n",
                "ON b.best_book_id = bt.tag_id\r\n",
                "WHERE bt.tag_id LIKE 29324;"
            ],
            "metadata": {
                "azdata_cell_guid": "51ffeaaf-6dde-4906-95f3-eb8757babf27",
                "tags": [],
                "language": "sql"
            },
            "outputs": [
                {
                    "output_type": "display_data",
                    "data": {
                        "text/html": "(0 rows affected)"
                    },
                    "metadata": {}
                },
                {
                    "output_type": "display_data",
                    "data": {
                        "text/html": "Total execution time: 00:00:00.297"
                    },
                    "metadata": {}
                },
                {
                    "output_type": "execute_result",
                    "metadata": {},
                    "execution_count": 122,
                    "data": {
                        "application/vnd.dataresource+json": {
                            "schema": {
                                "fields": [
                                    {
                                        "name": "authors"
                                    },
                                    {
                                        "name": "title"
                                    },
                                    {
                                        "name": "average_rating"
                                    },
                                    {
                                        "name": "tag_id"
                                    }
                                ]
                            },
                            "data": []
                        },
                        "text/html": [
                            "<table>",
                            "<tr><th>authors</th><th>title</th><th>average_rating</th><th>tag_id</th></tr>",
                            "</table>"
                        ]
                    }
                }
            ],
            "execution_count": 122
        },
        {
            "cell_type": "markdown",
            "source": [
                "### **Record your thoughts about why you wrote the query the way you did.**"
            ],
            "metadata": {
                "azdata_cell_guid": "1e19a72c-1bca-446b-a0c7-a8efbc35dcf1"
            },
            "attachments": {}
        },
        {
            "cell_type": "markdown",
            "source": [
                "# Part 2: Choose Another Month\n",
                "\n",
                "Choose another month and plan at least 2 events / promotions and answer the following questions.\n",
                "\n",
                "Which month did you choose?  \n",
                "\n",
                "What 2 events / promotions are you highlighting?\n",
                "\n",
                "> 1. Christmas Day - December\n",
                "> 2.  Native American Day - September"
            ],
            "metadata": {
                "azdata_cell_guid": "3eaf376d-9de3-4553-a9d0-9caf74ee3d6a"
            },
            "attachments": {}
        },
        {
            "cell_type": "markdown",
            "source": [
                "# Part 3: Summarize your Work\n",
                "\n",
                "For each event write at least one query that joins any two tables in the BooksDB to support your choice and record you thoughts as to why you used the paticlular query. At least one of your queries needs to include a HAVING clause."
            ],
            "metadata": {
                "azdata_cell_guid": "1ba1363a-4f02-4962-a95a-93b80c5926b1"
            },
            "attachments": {}
        },
        {
            "cell_type": "code",
            "source": [
                "-- Event 1 Query\r\n",
                "SELECT t.tag_id, t.tag_name, COUNT(*) AS Total\r\n",
                "FROM BooksDB.dbo.tags AS t \r\n",
                "JOIN BooksDB.dbo.book_tags AS bt\r\n",
                "ON t.tag_id = bt.tag_id\r\n",
                "GROUP BY t.tag_name, t.tag_id\r\n",
                "HAVING t.tag_name LIKE '%christmas%'\r\n",
                "ORDER by Total DESC;"
            ],
            "metadata": {
                "azdata_cell_guid": "f50d32ce-4cb2-4af2-acb1-607777a76cf8",
                "language": "sql"
            },
            "outputs": [
                {
                    "output_type": "display_data",
                    "data": {
                        "text/html": "(32 rows affected)"
                    },
                    "metadata": {}
                },
                {
                    "output_type": "display_data",
                    "data": {
                        "text/html": "Total execution time: 00:00:00.304"
                    },
                    "metadata": {}
                },
                {
                    "output_type": "execute_result",
                    "metadata": {},
                    "execution_count": 114,
                    "data": {
                        "application/vnd.dataresource+json": {
                            "schema": {
                                "fields": [
                                    {
                                        "name": "tag_id"
                                    },
                                    {
                                        "name": "tag_name"
                                    },
                                    {
                                        "name": "Total"
                                    }
                                ]
                            },
                            "data": [
                                {
                                    "0": "7224",
                                    "1": "christmas",
                                    "2": "75"
                                },
                                {
                                    "0": "7228",
                                    "1": "christmas-books",
                                    "2": "38"
                                },
                                {
                                    "0": "7243",
                                    "1": "christmas-stories",
                                    "2": "20"
                                },
                                {
                                    "0": "7242",
                                    "1": "christmas-reads",
                                    "2": "17"
                                },
                                {
                                    "0": "14696",
                                    "1": "holiday-christmas",
                                    "2": "7"
                                },
                                {
                                    "0": "7234",
                                    "1": "christmas-fiction",
                                    "2": "5"
                                },
                                {
                                    "0": "7248",
                                    "1": "christmas-winter",
                                    "2": "4"
                                },
                                {
                                    "0": "7241",
                                    "1": "christmas-reading",
                                    "2": "3"
                                },
                                {
                                    "0": "6870",
                                    "1": "children-christmas",
                                    "2": "2"
                                },
                                {
                                    "0": "7225",
                                    "1": "christmas-2014",
                                    "2": "2"
                                },
                                {
                                    "0": "7226",
                                    "1": "christmas-2016",
                                    "2": "2"
                                },
                                {
                                    "0": "7235",
                                    "1": "christmas-holiday",
                                    "2": "2"
                                },
                                {
                                    "0": "7244",
                                    "1": "christmas-story",
                                    "2": "2"
                                },
                                {
                                    "0": "7247",
                                    "1": "christmas-to-read",
                                    "2": "2"
                                },
                                {
                                    "0": "30633",
                                    "1": "to-read-christmas",
                                    "2": "2"
                                },
                                {
                                    "0": "6966",
                                    "1": "childrens-christmas",
                                    "2": "1"
                                },
                                {
                                    "0": "6967",
                                    "1": "childrens-christmas-books",
                                    "2": "1"
                                },
                                {
                                    "0": "7227",
                                    "1": "christmas-book",
                                    "2": "1"
                                },
                                {
                                    "0": "7229",
                                    "1": "christmas-books-i-have",
                                    "2": "1"
                                },
                                {
                                    "0": "7230",
                                    "1": "christmas-children-s-books-i-own",
                                    "2": "1"
                                },
                                {
                                    "0": "7231",
                                    "1": "christmas-childrens-books",
                                    "2": "1"
                                },
                                {
                                    "0": "7232",
                                    "1": "christmas-collection",
                                    "2": "1"
                                },
                                {
                                    "0": "7233",
                                    "1": "christmas-favorites",
                                    "2": "1"
                                },
                                {
                                    "0": "7236",
                                    "1": "christmas-hope",
                                    "2": "1"
                                },
                                {
                                    "0": "7237",
                                    "1": "christmas-hope-series",
                                    "2": "1"
                                },
                                {
                                    "0": "7238",
                                    "1": "christmas-kids",
                                    "2": "1"
                                },
                                {
                                    "0": "7239",
                                    "1": "christmas-new-year",
                                    "2": "1"
                                },
                                {
                                    "0": "7240",
                                    "1": "christmas-read",
                                    "2": "1"
                                },
                                {
                                    "0": "7245",
                                    "1": "christmas-tbr",
                                    "2": "1"
                                },
                                {
                                    "0": "7246",
                                    "1": "christmas-theme",
                                    "2": "1"
                                },
                                {
                                    "0": "7249",
                                    "1": "christmas-wish-read-list",
                                    "2": "1"
                                },
                                {
                                    "0": "14705",
                                    "1": "holidays-christmas",
                                    "2": "1"
                                }
                            ]
                        },
                        "text/html": [
                            "<table>",
                            "<tr><th>tag_id</th><th>tag_name</th><th>Total</th></tr>",
                            "<tr><td>7224</td><td>christmas</td><td>75</td></tr>",
                            "<tr><td>7228</td><td>christmas-books</td><td>38</td></tr>",
                            "<tr><td>7243</td><td>christmas-stories</td><td>20</td></tr>",
                            "<tr><td>7242</td><td>christmas-reads</td><td>17</td></tr>",
                            "<tr><td>14696</td><td>holiday-christmas</td><td>7</td></tr>",
                            "<tr><td>7234</td><td>christmas-fiction</td><td>5</td></tr>",
                            "<tr><td>7248</td><td>christmas-winter</td><td>4</td></tr>",
                            "<tr><td>7241</td><td>christmas-reading</td><td>3</td></tr>",
                            "<tr><td>6870</td><td>children-christmas</td><td>2</td></tr>",
                            "<tr><td>7225</td><td>christmas-2014</td><td>2</td></tr>",
                            "<tr><td>7226</td><td>christmas-2016</td><td>2</td></tr>",
                            "<tr><td>7235</td><td>christmas-holiday</td><td>2</td></tr>",
                            "<tr><td>7244</td><td>christmas-story</td><td>2</td></tr>",
                            "<tr><td>7247</td><td>christmas-to-read</td><td>2</td></tr>",
                            "<tr><td>30633</td><td>to-read-christmas</td><td>2</td></tr>",
                            "<tr><td>6966</td><td>childrens-christmas</td><td>1</td></tr>",
                            "<tr><td>6967</td><td>childrens-christmas-books</td><td>1</td></tr>",
                            "<tr><td>7227</td><td>christmas-book</td><td>1</td></tr>",
                            "<tr><td>7229</td><td>christmas-books-i-have</td><td>1</td></tr>",
                            "<tr><td>7230</td><td>christmas-children-s-books-i-own</td><td>1</td></tr>",
                            "<tr><td>7231</td><td>christmas-childrens-books</td><td>1</td></tr>",
                            "<tr><td>7232</td><td>christmas-collection</td><td>1</td></tr>",
                            "<tr><td>7233</td><td>christmas-favorites</td><td>1</td></tr>",
                            "<tr><td>7236</td><td>christmas-hope</td><td>1</td></tr>",
                            "<tr><td>7237</td><td>christmas-hope-series</td><td>1</td></tr>",
                            "<tr><td>7238</td><td>christmas-kids</td><td>1</td></tr>",
                            "<tr><td>7239</td><td>christmas-new-year</td><td>1</td></tr>",
                            "<tr><td>7240</td><td>christmas-read</td><td>1</td></tr>",
                            "<tr><td>7245</td><td>christmas-tbr</td><td>1</td></tr>",
                            "<tr><td>7246</td><td>christmas-theme</td><td>1</td></tr>",
                            "<tr><td>7249</td><td>christmas-wish-read-list</td><td>1</td></tr>",
                            "<tr><td>14705</td><td>holidays-christmas</td><td>1</td></tr>",
                            "</table>"
                        ]
                    }
                }
            ],
            "execution_count": 114
        },
        {
            "cell_type": "code",
            "source": [
                "SELECT b.authors, b.title, b.average_rating, bt.tag_id\r\n",
                "FROM BooksDB.dbo.books as b \r\n",
                "JOIN BooksDB.dbo.book_tags as bt \r\n",
                "ON b.best_book_id = bt.tag_id\r\n",
                "WHERE bt.tag_id LIKE 7224;"
            ],
            "metadata": {
                "azdata_cell_guid": "5606f7f2-c46b-42d3-ac64-7ae21c3394f8",
                "language": "sql",
                "tags": []
            },
            "outputs": [
                {
                    "output_type": "display_data",
                    "data": {
                        "text/html": "(0 rows affected)"
                    },
                    "metadata": {}
                },
                {
                    "output_type": "display_data",
                    "data": {
                        "text/html": "Total execution time: 00:00:00.241"
                    },
                    "metadata": {}
                },
                {
                    "output_type": "execute_result",
                    "metadata": {},
                    "execution_count": 128,
                    "data": {
                        "application/vnd.dataresource+json": {
                            "schema": {
                                "fields": [
                                    {
                                        "name": "authors"
                                    },
                                    {
                                        "name": "title"
                                    },
                                    {
                                        "name": "average_rating"
                                    },
                                    {
                                        "name": "tag_id"
                                    }
                                ]
                            },
                            "data": []
                        },
                        "text/html": [
                            "<table>",
                            "<tr><th>authors</th><th>title</th><th>average_rating</th><th>tag_id</th></tr>",
                            "</table>"
                        ]
                    }
                }
            ],
            "execution_count": 128
        },
        {
            "cell_type": "markdown",
            "source": [
                "### **Summary of event 1:**"
            ],
            "metadata": {
                "azdata_cell_guid": "3bc72d4c-077b-42d3-9528-9aff8e7b6cf3"
            },
            "attachments": {}
        },
        {
            "cell_type": "code",
            "source": [
                "-- Event 2 Query\r\n",
                "SELECT t.tag_id, t.tag_name, COUNT(*) AS Total\r\n",
                "FROM BooksDB.dbo.tags AS t \r\n",
                "JOIN BooksDB.dbo.book_tags AS bt\r\n",
                "ON t.tag_id = bt.tag_id\r\n",
                "GROUP BY t.tag_name, t.tag_id\r\n",
                "HAVING t.tag_name LIKE '%native%american%'\r\n",
                "ORDER by Total DESC;"
            ],
            "metadata": {
                "azdata_cell_guid": "dca0a98f-065f-4b0e-9d93-fcb01cad668c",
                "language": "sql"
            },
            "outputs": [
                {
                    "output_type": "display_data",
                    "data": {
                        "text/html": "(13 rows affected)"
                    },
                    "metadata": {}
                },
                {
                    "output_type": "display_data",
                    "data": {
                        "text/html": "Total execution time: 00:00:00.410"
                    },
                    "metadata": {}
                },
                {
                    "output_type": "execute_result",
                    "metadata": {},
                    "execution_count": 115,
                    "data": {
                        "application/vnd.dataresource+json": {
                            "schema": {
                                "fields": [
                                    {
                                        "name": "tag_id"
                                    },
                                    {
                                        "name": "tag_name"
                                    },
                                    {
                                        "name": "Total"
                                    }
                                ]
                            },
                            "data": [
                                {
                                    "0": "21166",
                                    "1": "native-american",
                                    "2": "71"
                                },
                                {
                                    "0": "21175",
                                    "1": "native-americans",
                                    "2": "37"
                                },
                                {
                                    "0": "21172",
                                    "1": "native-american-lit",
                                    "2": "11"
                                },
                                {
                                    "0": "21173",
                                    "1": "native-american-literature",
                                    "2": "9"
                                },
                                {
                                    "0": "21169",
                                    "1": "native-american-fiction",
                                    "2": "7"
                                },
                                {
                                    "0": "11806",
                                    "1": "fiction-native-american",
                                    "2": "4"
                                },
                                {
                                    "0": "21170",
                                    "1": "native-american-history",
                                    "2": "4"
                                },
                                {
                                    "0": "21167",
                                    "1": "native-american-authors",
                                    "2": "2"
                                },
                                {
                                    "0": "21174",
                                    "1": "native-american-studies",
                                    "2": "2"
                                },
                                {
                                    "0": "9564",
                                    "1": "discrimination-of-native-americans",
                                    "2": "1"
                                },
                                {
                                    "0": "21168",
                                    "1": "native-american-culture",
                                    "2": "1"
                                },
                                {
                                    "0": "21171",
                                    "1": "native-american-indian",
                                    "2": "1"
                                },
                                {
                                    "0": "21177",
                                    "1": "nativeamerican",
                                    "2": "1"
                                }
                            ]
                        },
                        "text/html": [
                            "<table>",
                            "<tr><th>tag_id</th><th>tag_name</th><th>Total</th></tr>",
                            "<tr><td>21166</td><td>native-american</td><td>71</td></tr>",
                            "<tr><td>21175</td><td>native-americans</td><td>37</td></tr>",
                            "<tr><td>21172</td><td>native-american-lit</td><td>11</td></tr>",
                            "<tr><td>21173</td><td>native-american-literature</td><td>9</td></tr>",
                            "<tr><td>21169</td><td>native-american-fiction</td><td>7</td></tr>",
                            "<tr><td>11806</td><td>fiction-native-american</td><td>4</td></tr>",
                            "<tr><td>21170</td><td>native-american-history</td><td>4</td></tr>",
                            "<tr><td>21167</td><td>native-american-authors</td><td>2</td></tr>",
                            "<tr><td>21174</td><td>native-american-studies</td><td>2</td></tr>",
                            "<tr><td>9564</td><td>discrimination-of-native-americans</td><td>1</td></tr>",
                            "<tr><td>21168</td><td>native-american-culture</td><td>1</td></tr>",
                            "<tr><td>21171</td><td>native-american-indian</td><td>1</td></tr>",
                            "<tr><td>21177</td><td>nativeamerican</td><td>1</td></tr>",
                            "</table>"
                        ]
                    }
                }
            ],
            "execution_count": 115
        },
        {
            "cell_type": "code",
            "source": [
                "SELECT b.authors, b.title, b.average_rating, bt.tag_id\r\n",
                "FROM BooksDB.dbo.books as b \r\n",
                "JOIN BooksDB.dbo.book_tags as bt \r\n",
                "ON b.best_book_id = bt.tag_id\r\n",
                "WHERE bt.tag_id LIKE 21166;"
            ],
            "metadata": {
                "azdata_cell_guid": "3aaae3a8-eff7-4b37-8970-2d913a67239b",
                "language": "sql"
            },
            "outputs": [
                {
                    "output_type": "display_data",
                    "data": {
                        "text/html": "(0 rows affected)"
                    },
                    "metadata": {}
                },
                {
                    "output_type": "display_data",
                    "data": {
                        "text/html": "Total execution time: 00:00:00.354"
                    },
                    "metadata": {}
                },
                {
                    "output_type": "execute_result",
                    "metadata": {},
                    "execution_count": 104,
                    "data": {
                        "application/vnd.dataresource+json": {
                            "schema": {
                                "fields": [
                                    {
                                        "name": "authors"
                                    },
                                    {
                                        "name": "title"
                                    },
                                    {
                                        "name": "average_rating"
                                    },
                                    {
                                        "name": "tag_id"
                                    }
                                ]
                            },
                            "data": []
                        },
                        "text/html": [
                            "<table>",
                            "<tr><th>authors</th><th>title</th><th>average_rating</th><th>tag_id</th></tr>",
                            "</table>"
                        ]
                    }
                }
            ],
            "execution_count": 104
        },
        {
            "cell_type": "markdown",
            "source": [
                "### **Summary of event 2:**"
            ],
            "metadata": {
                "azdata_cell_guid": "99d518dc-cd8b-42d6-9a9d-708771c9aa99"
            },
            "attachments": {}
        }
    ]
}