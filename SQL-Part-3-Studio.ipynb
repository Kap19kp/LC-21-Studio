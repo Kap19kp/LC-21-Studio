{
    "metadata": {
        "kernelspec": {
            "name": "SQL",
            "display_name": "SQL",
            "language": "sql"
        },
        "language_info": {
            "name": "sql",
            "version": ""
        },
        "extensions": {
            "azuredatastudio": {
                "version": 1,
                "views": []
            }
        }
    },
    "nbformat_minor": 2,
    "nbformat": 4,
    "cells": [
        {
            "cell_type": "markdown",
            "source": [
                "# SQL Part 3 Studio\n",
                "\n",
                "### Let's practice your SQL quering skills!  For each question, work along in the notebook adding your query and answering the questions. \n",
                "\n",
                "### **DataSet**\n",
                "\n",
                "### <span style=\"font-size: 14px; font-family: -apple-system, BlinkMacSystemFont, sans-serif;\">We will be using the Goodbooks-10k dataset from the exercises in the prep work.&nbsp; Feel free reference your previous notebooks.</span>\n",
                "\n",
                "- The dataset can be found here: [goodbooks-10k](https://www.kaggle.com/zygmunt/goodbooks-10k)\n",
                "- You can access the **BooksDB** in the Launchcode server.\n",
                "\n",
                "### **Business Issue**\n",
                "\n",
                "You are an employee at a small independet bookstore and you have been tasked to increase sales.  You decide to use the BooksDB to find books and themes to highlight in fun promotions throughout each month / season.  We will be starting with March and then you will have a chance to explore another month of your choosing.  We want to come up with a list of events/ promotions to run each month.  If you are looking for ideas to include in your promotions:\n",
                "\n",
                "- [https://www.calendarr.com/united-states/calendar-2022/](https://www.calendarr.com/united-states/calendar-2022/)\n",
                "- [https://www.holidayinsights.com/moreholidays/](https://www.holidayinsights.com/moreholidays/)\n",
                "    - Click on a month and it will take you to a more detailed page"
            ],
            "metadata": {
                "azdata_cell_guid": "b9034d8a-b631-48bf-a895-1012a6ffa784"
            },
            "attachments": {}
        },
        {
            "cell_type": "markdown",
            "source": [
                "## Part 1:  March - Women's History Month, Dr Seuss Day(3/2), National Pie Day3/14, St Patrick's Day (3/17), Season - Spring"
            ],
            "metadata": {
                "azdata_cell_guid": "6e55eb1c-4a14-4076-90d2-95ed17a6309f"
            },
            "attachments": {}
        },
        {
            "cell_type": "markdown",
            "source": [
                "### **Event 1:** Women's History Month\n",
                "\n",
                "Goal: Highlight Popular Womans Authors based on ratings from the Good Reads DB.\n",
                "\n",
                "### **Write a query that returns tag\\_id, the number of times each tag\\_id is used and the tag\\_name.**  \n",
                "\n",
                "### Use the GROUP BY and HAVING clause to narrow your focus.\n",
                "\n",
                "Try multiple keywords, ie woman vs female (female ended up giving better results)"
            ],
            "metadata": {
                "azdata_cell_guid": "d220c097-e9cf-4edd-9abe-312d071217b7"
            },
            "attachments": {}
        },
        {
            "cell_type": "code",
            "source": [
                "-- Solution\r\n",
                "SELECT bt.tag_id, t.tag_name, COUNT(*) AS Total\r\n",
                "FROM BooksDB.dbo.tags AS t \r\n",
                "JOIN BooksDB.dbo.book_tags AS bt\r\n",
                "ON t.tag_id = bt.tag_id\r\n",
                "GROUP BY t.tag_name, bt.tag_id\r\n",
                "HAVING t.tag_name LIKE '%female%'\r\n",
                "ORDER by Total DESC;"
            ],
            "metadata": {
                "azdata_cell_guid": "e31b9d26-0386-44c7-828e-85f4f06f3ee6",
                "language": "sql",
                "tags": []
            },
            "outputs": [
                {
                    "output_type": "display_data",
                    "data": {
                        "text/html": "(35 rows affected)"
                    },
                    "metadata": {}
                },
                {
                    "output_type": "display_data",
                    "data": {
                        "text/html": "Total execution time: 00:00:00.280"
                    },
                    "metadata": {}
                },
                {
                    "output_type": "execute_result",
                    "execution_count": 116,
                    "data": {
                        "application/vnd.dataresource+json": {
                            "schema": {
                                "fields": [
                                    {
                                        "name": "tag_id"
                                    },
                                    {
                                        "name": "tag_name"
                                    },
                                    {
                                        "name": "Total"
                                    }
                                ]
                            },
                            "data": [
                                {
                                    "0": "11643",
                                    "1": "female-author",
                                    "2": "997"
                                },
                                {
                                    "0": "11644",
                                    "1": "female-authors",
                                    "2": "721"
                                },
                                {
                                    "0": "11658",
                                    "1": "female-protagonist",
                                    "2": "171"
                                },
                                {
                                    "0": "11646",
                                    "1": "female-detective",
                                    "2": "32"
                                },
                                {
                                    "0": "11662",
                                    "1": "female-writers",
                                    "2": "18"
                                },
                                {
                                    "0": "11642",
                                    "1": "female",
                                    "2": "17"
                                },
                                {
                                    "0": "11656",
                                    "1": "female-pov",
                                    "2": "17"
                                },
                                {
                                    "0": "11652",
                                    "1": "female-lead",
                                    "2": "14"
                                },
                                {
                                    "0": "3514",
                                    "1": "author-female",
                                    "2": "12"
                                },
                                {
                                    "0": "28834",
                                    "1": "strong-female-lead",
                                    "2": "10"
                                },
                                {
                                    "0": "11647",
                                    "1": "female-detectives",
                                    "2": "9"
                                },
                                {
                                    "0": "11650",
                                    "1": "female-friendship",
                                    "2": "4"
                                },
                                {
                                    "0": "28830",
                                    "1": "strong-female",
                                    "2": "4"
                                },
                                {
                                    "0": "28833",
                                    "1": "strong-female-characters",
                                    "2": "3"
                                },
                                {
                                    "0": "11645",
                                    "1": "female-biographies",
                                    "2": "2"
                                },
                                {
                                    "0": "1741",
                                    "1": "afghan-female-entrepreneur-under-ta",
                                    "2": "1"
                                },
                                {
                                    "0": "4309",
                                    "1": "best-adult-female-friendship-books",
                                    "2": "1"
                                },
                                {
                                    "0": "11648",
                                    "1": "female-doctor",
                                    "2": "1"
                                },
                                {
                                    "0": "11649",
                                    "1": "female-fiction",
                                    "2": "1"
                                },
                                {
                                    "0": "11651",
                                    "1": "female-genre-authors",
                                    "2": "1"
                                },
                                {
                                    "0": "11653",
                                    "1": "female-main-character",
                                    "2": "1"
                                },
                                {
                                    "0": "11654",
                                    "1": "female-persuasion",
                                    "2": "1"
                                },
                                {
                                    "0": "11655",
                                    "1": "female-pi",
                                    "2": "1"
                                },
                                {
                                    "0": "11657",
                                    "1": "female-povs",
                                    "2": "1"
                                },
                                {
                                    "0": "11659",
                                    "1": "female-serial-killer",
                                    "2": "1"
                                },
                                {
                                    "0": "11660",
                                    "1": "female-spy",
                                    "2": "1"
                                },
                                {
                                    "0": "11661",
                                    "1": "female-writer",
                                    "2": "1"
                                },
                                {
                                    "0": "15331",
                                    "1": "important-female-authors",
                                    "2": "1"
                                },
                                {
                                    "0": "17079",
                                    "1": "kick-ass-female",
                                    "2": "1"
                                },
                                {
                                    "0": "24455",
                                    "1": "protagonist-female",
                                    "2": "1"
                                },
                                {
                                    "0": "28831",
                                    "1": "strong-female-character",
                                    "2": "1"
                                },
                                {
                                    "0": "28832",
                                    "1": "strong-female-character-s",
                                    "2": "1"
                                },
                                {
                                    "0": "28835",
                                    "1": "strong-female-protagonist",
                                    "2": "1"
                                },
                                {
                                    "0": "28836",
                                    "1": "strong-female-supporting-characters",
                                    "2": "1"
                                },
                                {
                                    "0": "29324",
                                    "1": "tbr-ax-female",
                                    "2": "1"
                                }
                            ]
                        },
                        "text/html": "<table><tr><th>tag_id</th><th>tag_name</th><th>Total</th></tr><tr><td>11643</td><td>female-author</td><td>997</td></tr><tr><td>11644</td><td>female-authors</td><td>721</td></tr><tr><td>11658</td><td>female-protagonist</td><td>171</td></tr><tr><td>11646</td><td>female-detective</td><td>32</td></tr><tr><td>11662</td><td>female-writers</td><td>18</td></tr><tr><td>11642</td><td>female</td><td>17</td></tr><tr><td>11656</td><td>female-pov</td><td>17</td></tr><tr><td>11652</td><td>female-lead</td><td>14</td></tr><tr><td>3514</td><td>author-female</td><td>12</td></tr><tr><td>28834</td><td>strong-female-lead</td><td>10</td></tr><tr><td>11647</td><td>female-detectives</td><td>9</td></tr><tr><td>11650</td><td>female-friendship</td><td>4</td></tr><tr><td>28830</td><td>strong-female</td><td>4</td></tr><tr><td>28833</td><td>strong-female-characters</td><td>3</td></tr><tr><td>11645</td><td>female-biographies</td><td>2</td></tr><tr><td>1741</td><td>afghan-female-entrepreneur-under-ta</td><td>1</td></tr><tr><td>4309</td><td>best-adult-female-friendship-books</td><td>1</td></tr><tr><td>11648</td><td>female-doctor</td><td>1</td></tr><tr><td>11649</td><td>female-fiction</td><td>1</td></tr><tr><td>11651</td><td>female-genre-authors</td><td>1</td></tr><tr><td>11653</td><td>female-main-character</td><td>1</td></tr><tr><td>11654</td><td>female-persuasion</td><td>1</td></tr><tr><td>11655</td><td>female-pi</td><td>1</td></tr><tr><td>11657</td><td>female-povs</td><td>1</td></tr><tr><td>11659</td><td>female-serial-killer</td><td>1</td></tr><tr><td>11660</td><td>female-spy</td><td>1</td></tr><tr><td>11661</td><td>female-writer</td><td>1</td></tr><tr><td>15331</td><td>important-female-authors</td><td>1</td></tr><tr><td>17079</td><td>kick-ass-female</td><td>1</td></tr><tr><td>24455</td><td>protagonist-female</td><td>1</td></tr><tr><td>28831</td><td>strong-female-character</td><td>1</td></tr><tr><td>28832</td><td>strong-female-character-s</td><td>1</td></tr><tr><td>28835</td><td>strong-female-protagonist</td><td>1</td></tr><tr><td>28836</td><td>strong-female-supporting-characters</td><td>1</td></tr><tr><td>29324</td><td>tbr-ax-female</td><td>1</td></tr></table>"
                    },
                    "metadata": {}
                }
            ],
            "execution_count": 116
        },
        {
            "cell_type": "markdown",
            "source": [
                "### **Which keyword(s) and tag(s) would you like to explore more?**\n",
                "\n",
                "female-author"
            ],
            "metadata": {
                "azdata_cell_guid": "e9acd8b5-a62b-4ac0-bd07-19915b379ba6"
            },
            "attachments": {}
        },
        {
            "cell_type": "markdown",
            "source": [
                "### **Write a query to return authors, titles, ratings and** **selected tag(s)\\_id.**"
            ],
            "metadata": {
                "azdata_cell_guid": "59b84464-c0bc-4dac-9e02-0c803765b063"
            },
            "attachments": {}
        },
        {
            "cell_type": "code",
            "source": [
                "-- Solution\r\n",
                "SELECT b.authors, b.title, b.average_rating, bt.tag_id\r\n",
                "FROM BooksDB.dbo.books as b \r\n",
                "JOIN BooksDB.dbo.book_tags as bt \r\n",
                "ON b.best_book_id = bt.goodreads_book_id\r\n",
                "WHERE bt.tag_id LIKE 29324\r\n",
                "ORDER by tag_id, average_rating DESC;"
            ],
            "metadata": {
                "azdata_cell_guid": "51ffeaaf-6dde-4906-95f3-eb8757babf27",
                "tags": [],
                "language": "sql"
            },
            "outputs": [
                {
                    "output_type": "display_data",
                    "data": {
                        "text/html": "(1 row affected)"
                    },
                    "metadata": {}
                },
                {
                    "output_type": "display_data",
                    "data": {
                        "text/html": "Total execution time: 00:00:00.221"
                    },
                    "metadata": {}
                },
                {
                    "output_type": "execute_result",
                    "metadata": {},
                    "execution_count": 3,
                    "data": {
                        "application/vnd.dataresource+json": {
                            "schema": {
                                "fields": [
                                    {
                                        "name": "authors"
                                    },
                                    {
                                        "name": "title"
                                    },
                                    {
                                        "name": "average_rating"
                                    },
                                    {
                                        "name": "tag_id"
                                    }
                                ]
                            },
                            "data": [
                                {
                                    "0": "Taylor Caldwell",
                                    "1": "Captains and the Kings",
                                    "2": "4.11",
                                    "3": "29324"
                                }
                            ]
                        },
                        "text/html": [
                            "<table>",
                            "<tr><th>authors</th><th>title</th><th>average_rating</th><th>tag_id</th></tr>",
                            "<tr><td>Taylor Caldwell</td><td>Captains and the Kings</td><td>4.11</td><td>29324</td></tr>",
                            "</table>"
                        ]
                    }
                }
            ],
            "execution_count": 3
        },
        {
            "cell_type": "markdown",
            "source": [
                "### **Record your thoughts about why you wrote the query the way you did.**"
            ],
            "metadata": {
                "azdata_cell_guid": "1e19a72c-1bca-446b-a0c7-a8efbc35dcf1"
            },
            "attachments": {}
        },
        {
            "cell_type": "markdown",
            "source": [
                "# Part 2: Choose Another Month\n",
                "\n",
                "Choose another month and plan at least 2 events / promotions and answer the following questions.\n",
                "\n",
                "Which month did you choose?  \n",
                "\n",
                "What 2 events / promotions are you highlighting?\n",
                "\n",
                "> 1. Christmas Day - December\n",
                "> 2.  Native American Day - September"
            ],
            "metadata": {
                "azdata_cell_guid": "3eaf376d-9de3-4553-a9d0-9caf74ee3d6a"
            },
            "attachments": {}
        },
        {
            "cell_type": "markdown",
            "source": [
                "# Part 3: Summarize your Work\n",
                "\n",
                "For each event write at least one query that joins any two tables in the BooksDB to support your choice and record you thoughts as to why you used the paticlular query. At least one of your queries needs to include a HAVING clause."
            ],
            "metadata": {
                "azdata_cell_guid": "1ba1363a-4f02-4962-a95a-93b80c5926b1"
            },
            "attachments": {}
        },
        {
            "cell_type": "code",
            "source": [
                "-- Event 1 Query\r\n",
                "SELECT t.tag_id, t.tag_name, COUNT(*) AS Total\r\n",
                "FROM BooksDB.dbo.tags AS t \r\n",
                "JOIN BooksDB.dbo.book_tags AS bt\r\n",
                "ON t.tag_id = bt.tag_id\r\n",
                "GROUP BY t.tag_name, t.tag_id\r\n",
                "HAVING t.tag_name LIKE '%christmas%'\r\n",
                "ORDER by Total DESC;"
            ],
            "metadata": {
                "azdata_cell_guid": "f50d32ce-4cb2-4af2-acb1-607777a76cf8",
                "language": "sql"
            },
            "outputs": [
                {
                    "output_type": "display_data",
                    "data": {
                        "text/html": "(32 rows affected)"
                    },
                    "metadata": {}
                },
                {
                    "output_type": "display_data",
                    "data": {
                        "text/html": "Total execution time: 00:00:00.304"
                    },
                    "metadata": {}
                },
                {
                    "output_type": "execute_result",
                    "execution_count": 114,
                    "data": {
                        "application/vnd.dataresource+json": {
                            "schema": {
                                "fields": [
                                    {
                                        "name": "tag_id"
                                    },
                                    {
                                        "name": "tag_name"
                                    },
                                    {
                                        "name": "Total"
                                    }
                                ]
                            },
                            "data": [
                                {
                                    "0": "7224",
                                    "1": "christmas",
                                    "2": "75"
                                },
                                {
                                    "0": "7228",
                                    "1": "christmas-books",
                                    "2": "38"
                                },
                                {
                                    "0": "7243",
                                    "1": "christmas-stories",
                                    "2": "20"
                                },
                                {
                                    "0": "7242",
                                    "1": "christmas-reads",
                                    "2": "17"
                                },
                                {
                                    "0": "14696",
                                    "1": "holiday-christmas",
                                    "2": "7"
                                },
                                {
                                    "0": "7234",
                                    "1": "christmas-fiction",
                                    "2": "5"
                                },
                                {
                                    "0": "7248",
                                    "1": "christmas-winter",
                                    "2": "4"
                                },
                                {
                                    "0": "7241",
                                    "1": "christmas-reading",
                                    "2": "3"
                                },
                                {
                                    "0": "6870",
                                    "1": "children-christmas",
                                    "2": "2"
                                },
                                {
                                    "0": "7225",
                                    "1": "christmas-2014",
                                    "2": "2"
                                },
                                {
                                    "0": "7226",
                                    "1": "christmas-2016",
                                    "2": "2"
                                },
                                {
                                    "0": "7235",
                                    "1": "christmas-holiday",
                                    "2": "2"
                                },
                                {
                                    "0": "7244",
                                    "1": "christmas-story",
                                    "2": "2"
                                },
                                {
                                    "0": "7247",
                                    "1": "christmas-to-read",
                                    "2": "2"
                                },
                                {
                                    "0": "30633",
                                    "1": "to-read-christmas",
                                    "2": "2"
                                },
                                {
                                    "0": "6966",
                                    "1": "childrens-christmas",
                                    "2": "1"
                                },
                                {
                                    "0": "6967",
                                    "1": "childrens-christmas-books",
                                    "2": "1"
                                },
                                {
                                    "0": "7227",
                                    "1": "christmas-book",
                                    "2": "1"
                                },
                                {
                                    "0": "7229",
                                    "1": "christmas-books-i-have",
                                    "2": "1"
                                },
                                {
                                    "0": "7230",
                                    "1": "christmas-children-s-books-i-own",
                                    "2": "1"
                                },
                                {
                                    "0": "7231",
                                    "1": "christmas-childrens-books",
                                    "2": "1"
                                },
                                {
                                    "0": "7232",
                                    "1": "christmas-collection",
                                    "2": "1"
                                },
                                {
                                    "0": "7233",
                                    "1": "christmas-favorites",
                                    "2": "1"
                                },
                                {
                                    "0": "7236",
                                    "1": "christmas-hope",
                                    "2": "1"
                                },
                                {
                                    "0": "7237",
                                    "1": "christmas-hope-series",
                                    "2": "1"
                                },
                                {
                                    "0": "7238",
                                    "1": "christmas-kids",
                                    "2": "1"
                                },
                                {
                                    "0": "7239",
                                    "1": "christmas-new-year",
                                    "2": "1"
                                },
                                {
                                    "0": "7240",
                                    "1": "christmas-read",
                                    "2": "1"
                                },
                                {
                                    "0": "7245",
                                    "1": "christmas-tbr",
                                    "2": "1"
                                },
                                {
                                    "0": "7246",
                                    "1": "christmas-theme",
                                    "2": "1"
                                },
                                {
                                    "0": "7249",
                                    "1": "christmas-wish-read-list",
                                    "2": "1"
                                },
                                {
                                    "0": "14705",
                                    "1": "holidays-christmas",
                                    "2": "1"
                                }
                            ]
                        },
                        "text/html": "<table><tr><th>tag_id</th><th>tag_name</th><th>Total</th></tr><tr><td>7224</td><td>christmas</td><td>75</td></tr><tr><td>7228</td><td>christmas-books</td><td>38</td></tr><tr><td>7243</td><td>christmas-stories</td><td>20</td></tr><tr><td>7242</td><td>christmas-reads</td><td>17</td></tr><tr><td>14696</td><td>holiday-christmas</td><td>7</td></tr><tr><td>7234</td><td>christmas-fiction</td><td>5</td></tr><tr><td>7248</td><td>christmas-winter</td><td>4</td></tr><tr><td>7241</td><td>christmas-reading</td><td>3</td></tr><tr><td>6870</td><td>children-christmas</td><td>2</td></tr><tr><td>7225</td><td>christmas-2014</td><td>2</td></tr><tr><td>7226</td><td>christmas-2016</td><td>2</td></tr><tr><td>7235</td><td>christmas-holiday</td><td>2</td></tr><tr><td>7244</td><td>christmas-story</td><td>2</td></tr><tr><td>7247</td><td>christmas-to-read</td><td>2</td></tr><tr><td>30633</td><td>to-read-christmas</td><td>2</td></tr><tr><td>6966</td><td>childrens-christmas</td><td>1</td></tr><tr><td>6967</td><td>childrens-christmas-books</td><td>1</td></tr><tr><td>7227</td><td>christmas-book</td><td>1</td></tr><tr><td>7229</td><td>christmas-books-i-have</td><td>1</td></tr><tr><td>7230</td><td>christmas-children-s-books-i-own</td><td>1</td></tr><tr><td>7231</td><td>christmas-childrens-books</td><td>1</td></tr><tr><td>7232</td><td>christmas-collection</td><td>1</td></tr><tr><td>7233</td><td>christmas-favorites</td><td>1</td></tr><tr><td>7236</td><td>christmas-hope</td><td>1</td></tr><tr><td>7237</td><td>christmas-hope-series</td><td>1</td></tr><tr><td>7238</td><td>christmas-kids</td><td>1</td></tr><tr><td>7239</td><td>christmas-new-year</td><td>1</td></tr><tr><td>7240</td><td>christmas-read</td><td>1</td></tr><tr><td>7245</td><td>christmas-tbr</td><td>1</td></tr><tr><td>7246</td><td>christmas-theme</td><td>1</td></tr><tr><td>7249</td><td>christmas-wish-read-list</td><td>1</td></tr><tr><td>14705</td><td>holidays-christmas</td><td>1</td></tr></table>"
                    },
                    "metadata": {}
                }
            ],
            "execution_count": 114
        },
        {
            "cell_type": "code",
            "source": [
                "SELECT b.authors, b.title, b.average_rating, bt.tag_id\r\n",
                "FROM BooksDB.dbo.books as b \r\n",
                "JOIN BooksDB.dbo.book_tags as bt \r\n",
                "ON b.best_book_id = bt.goodreads_book_id\r\n",
                "WHERE bt.tag_id LIKE 7224;"
            ],
            "metadata": {
                "azdata_cell_guid": "5606f7f2-c46b-42d3-ac64-7ae21c3394f8",
                "language": "sql",
                "tags": []
            },
            "outputs": [
                {
                    "output_type": "display_data",
                    "data": {
                        "text/html": "(74 rows affected)"
                    },
                    "metadata": {}
                },
                {
                    "output_type": "display_data",
                    "data": {
                        "text/html": "Total execution time: 00:00:00.228"
                    },
                    "metadata": {}
                },
                {
                    "output_type": "execute_result",
                    "metadata": {},
                    "execution_count": 4,
                    "data": {
                        "application/vnd.dataresource+json": {
                            "schema": {
                                "fields": [
                                    {
                                        "name": "authors"
                                    },
                                    {
                                        "name": "title"
                                    },
                                    {
                                        "name": "average_rating"
                                    },
                                    {
                                        "name": "tag_id"
                                    }
                                ]
                            },
                            "data": [
                                {
                                    "0": "David Sedaris",
                                    "1": "Holidays on Ice",
                                    "2": "3.95",
                                    "3": "7224"
                                },
                                {
                                    "0": "Charles Dickens",
                                    "1": "A Christmas Carol",
                                    "2": "4.02",
                                    "3": "7224"
                                },
                                {
                                    "0": "Charles Dickens, Michael Slater",
                                    "1": "A Christmas Carol and Other Christmas Writings",
                                    "2": "4.13",
                                    "3": "7224"
                                },
                                {
                                    "0": "John Grisham",
                                    "1": "Skipping Christmas",
                                    "2": "3.47",
                                    "3": "7224"
                                },
                                {
                                    "0": "Janet Evanovich",
                                    "1": "Visions of Sugar Plums (Stephanie Plum, #8.5)",
                                    "2": "3.68",
                                    "3": "7224"
                                },
                                {
                                    "0": "Laurie Notaro",
                                    "1": "The Idiot Girls' Action-Adventure Club: True Tales from a Magnificent and Clumsy Life",
                                    "2": "3.89",
                                    "3": "7224"
                                },
                                {
                                    "0": "Anita Shreve",
                                    "1": "A Wedding in December",
                                    "2": "3.08",
                                    "3": "7224"
                                },
                                {
                                    "0": "Agatha Christie",
                                    "1": "Hercule Poirot's Christmas (Hercule Poirot, #20)",
                                    "2": "3.9",
                                    "3": "7224"
                                },
                                {
                                    "0": "Connie Willis",
                                    "1": "Doomsday Book (Oxford Time Travel, #1)",
                                    "2": "4.03",
                                    "3": "7224"
                                },
                                {
                                    "0": "Martha Grimes",
                                    "1": "The Man With a Load of Mischief (Richard Jury, #1)",
                                    "2": "4.01",
                                    "3": "7224"
                                },
                                {
                                    "0": "Terry Pratchett",
                                    "1": "Hogfather (Discworld, #20; Death, #4)",
                                    "2": "4.22",
                                    "3": "7224"
                                },
                                {
                                    "0": "Donna VanLiere",
                                    "1": "The Christmas Shoes (Christmas Hope #1)",
                                    "2": "4.22",
                                    "3": "7224"
                                },
                                {
                                    "0": "Billie Letts",
                                    "1": "The Honk and Holler Opening Soon",
                                    "2": "3.93",
                                    "3": "7224"
                                },
                                {
                                    "0": "Max Lucado",
                                    "1": "You Are Special (Wemmicksville, #1)",
                                    "2": "4.45",
                                    "3": "7224"
                                },
                                {
                                    "0": "Danielle Steel",
                                    "1": "The Gift",
                                    "2": "3.91",
                                    "3": "7224"
                                },
                                {
                                    "0": "Christopher Moore",
                                    "1": "The Stupidest Angel: A Heartwarming Tale of Christmas Terror (Pine Cove, #3)",
                                    "2": "3.82",
                                    "3": "7224"
                                },
                                {
                                    "0": "Dr. Seuss",
                                    "1": "How the Grinch Stole Christmas!",
                                    "2": "4.36",
                                    "3": "7224"
                                },
                                {
                                    "0": "Rosamunde Pilcher",
                                    "1": "Winter Solstice",
                                    "2": "4.15",
                                    "3": "7224"
                                },
                                {
                                    "0": "David Baldacci",
                                    "1": "The Christmas Train",
                                    "2": "3.56",
                                    "3": "7224"
                                },
                                {
                                    "0": "O. Henry, Lisbeth Zwerger",
                                    "1": "The Gift of the Magi",
                                    "2": "4.07",
                                    "3": "7224"
                                },
                                {
                                    "0": "Margery Williams Bianco, William   Nicholson",
                                    "1": "The Velveteen Rabbit",
                                    "2": "4.29",
                                    "3": "7224"
                                },
                                {
                                    "0": "Richard Paul Evans",
                                    "1": "The Christmas Box (The Christmas Box, #1)",
                                    "2": "3.95",
                                    "3": "7224"
                                },
                                {
                                    "0": "Charles Dickens, Katharine Kroeber Wiley",
                                    "1": "A Christmas Carol, The Chimes and The Cricket on the Hearth",
                                    "2": "4.11",
                                    "3": "7224"
                                },
                                {
                                    "0": "David Sedaris",
                                    "1": "SantaLand Diaries",
                                    "2": "4.33",
                                    "3": "7224"
                                },
                                {
                                    "0": "Angela Elwell Hunt, Tim Jonke",
                                    "1": "The Tale of Three Trees",
                                    "2": "4.52",
                                    "3": "7224"
                                },
                                {
                                    "0": "Jan Brett",
                                    "1": "The Hat",
                                    "2": "4.25",
                                    "3": "7224"
                                },
                                {
                                    "0": "Clement C. Moore, Jan Brett",
                                    "1": "The Night Before Christmas",
                                    "2": "4.36",
                                    "3": "7224"
                                },
                                {
                                    "0": "Fannie Flagg",
                                    "1": "A Redbird Christmas",
                                    "2": "3.86",
                                    "3": "7224"
                                },
                                {
                                    "0": "Susan Cooper",
                                    "1": "The Dark Is Rising (The Dark is Rising, #2)",
                                    "2": "4.07",
                                    "3": "7224"
                                },
                                {
                                    "0": "Jane Yolen, John Schoenherr",
                                    "1": "Owl Moon",
                                    "2": "4.2",
                                    "3": "7224"
                                },
                                {
                                    "0": "Richard Paul Evans",
                                    "1": "The Locket (The Locket, #1)",
                                    "2": "4.1",
                                    "3": "7224"
                                },
                                {
                                    "0": "J.D. Robb",
                                    "1": "Holiday in Death (In Death, #7)",
                                    "2": "4.31",
                                    "3": "7224"
                                },
                                {
                                    "0": "J.D. Robb",
                                    "1": "Memory in Death (In Death, #22)",
                                    "2": "4.31",
                                    "3": "7224"
                                },
                                {
                                    "0": "Barbara Robinson",
                                    "1": "The Best Christmas Pageant Ever (The Herdmans #1)",
                                    "2": "4.18",
                                    "3": "7224"
                                },
                                {
                                    "0": "Ezra Jack Keats",
                                    "1": "The Snowy Day",
                                    "2": "4.13",
                                    "3": "7224"
                                },
                                {
                                    "0": "Hans Christian Andersen, Rachel Isadora",
                                    "1": "The Little Match Girl",
                                    "2": "4.08",
                                    "3": "7224"
                                },
                                {
                                    "0": "Jacqueline Briggs Martin, Mary Azarian",
                                    "1": "Snowflake Bentley",
                                    "2": "4.16",
                                    "3": "7224"
                                },
                                {
                                    "0": "Louise Penny",
                                    "1": "A Fatal Grace (Chief Inspector Armand Gamache, #2)",
                                    "2": "4.11",
                                    "3": "7224"
                                },
                                {
                                    "0": "Chris Van Allsburg",
                                    "1": "The Polar Express",
                                    "2": "4.29",
                                    "3": "7224"
                                },
                                {
                                    "0": "Diane Muldrow",
                                    "1": "Frosty the Snowman (Frosty the Snowman)",
                                    "2": "4.34",
                                    "3": "7224"
                                },
                                {
                                    "0": "Raymond Briggs",
                                    "1": "The Snowman",
                                    "2": "4.28",
                                    "3": "7224"
                                },
                                {
                                    "0": "Dodie Smith, Michael Dooling",
                                    "1": "The 101 Dalmatians (The Hundred and One Dalmatians, #1)",
                                    "2": "4.11",
                                    "3": "7224"
                                },
                                {
                                    "0": "Orson Scott Card",
                                    "1": "A War of Gifts (Ender's Saga, #1.1)",
                                    "2": "3.66",
                                    "3": "7224"
                                },
                                {
                                    "0": "Caralyn Buehner, Mark Buehner",
                                    "1": "Snowmen at Night",
                                    "2": "4.23",
                                    "3": "7224"
                                },
                                {
                                    "0": "Laura Joffe Numeroff, Felicia Bond",
                                    "1": "If You Take a Mouse to the Movies",
                                    "2": "4.16",
                                    "3": "7224"
                                },
                                {
                                    "0": "Arnold Lobel",
                                    "1": "Frog and Toad All Year (Frog and Toad, #3)",
                                    "2": "4.34",
                                    "3": "7224"
                                },
                                {
                                    "0": "Jan Brett",
                                    "1": "The Mitten",
                                    "2": "4.23",
                                    "3": "7224"
                                },
                                {
                                    "0": "Barbara Shook Hazen, Robert Lewis May, Richard Scarry",
                                    "1": "Rudolph the Red-Nosed Reindeer",
                                    "2": "4.3",
                                    "3": "7224"
                                },
                                {
                                    "0": "Charles M. Schulz",
                                    "1": "A Charlie Brown Christmas",
                                    "2": "4.48",
                                    "3": "7224"
                                },
                                {
                                    "0": "Jason F. Wright",
                                    "1": "The Wednesday Letters",
                                    "2": "3.61",
                                    "3": "7224"
                                },
                                {
                                    "0": "Jane Werner Watson, Corinne Malvern",
                                    "1": "Frosty the Snow Man",
                                    "2": "4.25",
                                    "3": "7224"
                                },
                                {
                                    "0": "Glenn Beck",
                                    "1": "The Christmas Sweater",
                                    "2": "3.79",
                                    "3": "7224"
                                },
                                {
                                    "0": "Jacqueline Winspear, Orlagh Cassidy",
                                    "1": "Among the Mad (Maisie Dobbs, #6)",
                                    "2": "4.1",
                                    "3": "7224"
                                },
                                {
                                    "0": "Cecelia Ahern",
                                    "1": "The Gift",
                                    "2": "3.68",
                                    "3": "7224"
                                },
                                {
                                    "0": "Richard Paul Evans",
                                    "1": "The Christmas List",
                                    "2": "4.17",
                                    "3": "7224"
                                },
                                {
                                    "0": "Rachel Cohn, David Levithan",
                                    "1": "Dash & Lily's Book of Dares (Dash & Lily, #1)",
                                    "2": "3.82",
                                    "3": "7224"
                                },
                                {
                                    "0": "Jill Shalvis",
                                    "1": "Simply Irresistible (Lucky Harbor, #1)",
                                    "2": "3.92",
                                    "3": "7224"
                                },
                                {
                                    "0": "Yotam Ottolenghi",
                                    "1": "Plenty",
                                    "2": "4.32",
                                    "3": "7224"
                                },
                                {
                                    "0": "Wally Lamb",
                                    "1": "Wishin' and Hopin'",
                                    "2": "3.52",
                                    "3": "7224"
                                },
                                {
                                    "0": "Dinah Bucholz",
                                    "1": "The Unofficial Harry Potter Cookbook: From Cauldron Cakes to Knickerbocker Glory--More Than 150 Magical Recipes for Wizards and Non-Wizards Alike (Unofficial Cookbook)",
                                    "2": "4.1",
                                    "3": "7224"
                                },
                                {
                                    "0": "Lynsay Sands, Jeaniene Frost",
                                    "1": "The Bite Before Christmas (Argeneau, #15.5; Night Huntress, #6.5)",
                                    "2": "4.16",
                                    "3": "7224"
                                },
                                {
                                    "0": "James Patterson, Richard DiLallo",
                                    "1": "The Christmas Wedding",
                                    "2": "3.32",
                                    "3": "7224"
                                },
                                {
                                    "0": "Jeff Kinney",
                                    "1": "Cabin Fever (Diary of a Wimpy Kid, #6)",
                                    "2": "4.21",
                                    "3": "7224"
                                },
                                {
                                    "0": "Alan Bradley",
                                    "1": "I Am Half-Sick of Shadows (Flavia de Luce, #4)",
                                    "2": "4.09",
                                    "3": "7224"
                                },
                                {
                                    "0": "James Patterson",
                                    "1": "Merry Christmas, Alex Cross (Alex Cross, #19)",
                                    "2": "3.85",
                                    "3": "7224"
                                },
                                {
                                    "0": "Joe Hill",
                                    "1": "NOS4A2",
                                    "2": "4.06",
                                    "3": "7224"
                                },
                                {
                                    "0": "Catherine Bybee",
                                    "1": "Not Quite Dating (Not Quite, #1)",
                                    "2": "3.88",
                                    "3": "7224"
                                },
                                {
                                    "0": "J. Lynn, Jennifer L. Armentrout",
                                    "1": "Frigid (Frigid, #1)",
                                    "2": "3.79",
                                    "3": "7224"
                                },
                                {
                                    "0": "Louise Penny",
                                    "1": "How the Light Gets In (Chief Inspector Armand Gamache, #9)",
                                    "2": "4.41",
                                    "3": "7224"
                                },
                                {
                                    "0": "Rainbow Rowell",
                                    "1": "Landline",
                                    "2": "3.55",
                                    "3": "7224"
                                },
                                {
                                    "0": "Stephanie Perkins, Holly Black, Ally Carter, Matt de la Pena, Gayle Forman, Jenny Han, David Levithan, Kelly Link, Myra McEntire, Rainbow Rowell, Laini Taylor, Kiersten White",
                                    "1": "My True Love Gave to Me: Twelve Holiday Stories",
                                    "2": "3.73",
                                    "3": "7224"
                                },
                                {
                                    "0": "Elin Hilderbrand",
                                    "1": "Winter Street (Winter, #1)",
                                    "2": "3.67",
                                    "3": "7224"
                                },
                                {
                                    "0": "J.D. Robb",
                                    "1": "Festive in Death (In Death, #39)",
                                    "2": "4.26",
                                    "3": "7224"
                                },
                                {
                                    "0": "Elin Hilderbrand",
                                    "1": "Winter Stroll (Winter #2)",
                                    "2": "3.7",
                                    "3": "7224"
                                }
                            ]
                        },
                        "text/html": [
                            "<table>",
                            "<tr><th>authors</th><th>title</th><th>average_rating</th><th>tag_id</th></tr>",
                            "<tr><td>David Sedaris</td><td>Holidays on Ice</td><td>3.95</td><td>7224</td></tr>",
                            "<tr><td>Charles Dickens</td><td>A Christmas Carol</td><td>4.02</td><td>7224</td></tr>",
                            "<tr><td>Charles Dickens, Michael Slater</td><td>A Christmas Carol and Other Christmas Writings</td><td>4.13</td><td>7224</td></tr>",
                            "<tr><td>John Grisham</td><td>Skipping Christmas</td><td>3.47</td><td>7224</td></tr>",
                            "<tr><td>Janet Evanovich</td><td>Visions of Sugar Plums (Stephanie Plum, #8.5)</td><td>3.68</td><td>7224</td></tr>",
                            "<tr><td>Laurie Notaro</td><td>The Idiot Girls' Action-Adventure Club: True Tales from a Magnificent and Clumsy Life</td><td>3.89</td><td>7224</td></tr>",
                            "<tr><td>Anita Shreve</td><td>A Wedding in December</td><td>3.08</td><td>7224</td></tr>",
                            "<tr><td>Agatha Christie</td><td>Hercule Poirot's Christmas (Hercule Poirot, #20)</td><td>3.9</td><td>7224</td></tr>",
                            "<tr><td>Connie Willis</td><td>Doomsday Book (Oxford Time Travel, #1)</td><td>4.03</td><td>7224</td></tr>",
                            "<tr><td>Martha Grimes</td><td>The Man With a Load of Mischief (Richard Jury, #1)</td><td>4.01</td><td>7224</td></tr>",
                            "<tr><td>Terry Pratchett</td><td>Hogfather (Discworld, #20; Death, #4)</td><td>4.22</td><td>7224</td></tr>",
                            "<tr><td>Donna VanLiere</td><td>The Christmas Shoes (Christmas Hope #1)</td><td>4.22</td><td>7224</td></tr>",
                            "<tr><td>Billie Letts</td><td>The Honk and Holler Opening Soon</td><td>3.93</td><td>7224</td></tr>",
                            "<tr><td>Max Lucado</td><td>You Are Special (Wemmicksville, #1)</td><td>4.45</td><td>7224</td></tr>",
                            "<tr><td>Danielle Steel</td><td>The Gift</td><td>3.91</td><td>7224</td></tr>",
                            "<tr><td>Christopher Moore</td><td>The Stupidest Angel: A Heartwarming Tale of Christmas Terror (Pine Cove, #3)</td><td>3.82</td><td>7224</td></tr>",
                            "<tr><td>Dr. Seuss</td><td>How the Grinch Stole Christmas!</td><td>4.36</td><td>7224</td></tr>",
                            "<tr><td>Rosamunde Pilcher</td><td>Winter Solstice</td><td>4.15</td><td>7224</td></tr>",
                            "<tr><td>David Baldacci</td><td>The Christmas Train</td><td>3.56</td><td>7224</td></tr>",
                            "<tr><td>O. Henry, Lisbeth Zwerger</td><td>The Gift of the Magi</td><td>4.07</td><td>7224</td></tr>",
                            "<tr><td>Margery Williams Bianco, William   Nicholson</td><td>The Velveteen Rabbit</td><td>4.29</td><td>7224</td></tr>",
                            "<tr><td>Richard Paul Evans</td><td>The Christmas Box (The Christmas Box, #1)</td><td>3.95</td><td>7224</td></tr>",
                            "<tr><td>Charles Dickens, Katharine Kroeber Wiley</td><td>A Christmas Carol, The Chimes and The Cricket on the Hearth</td><td>4.11</td><td>7224</td></tr>",
                            "<tr><td>David Sedaris</td><td>SantaLand Diaries</td><td>4.33</td><td>7224</td></tr>",
                            "<tr><td>Angela Elwell Hunt, Tim Jonke</td><td>The Tale of Three Trees</td><td>4.52</td><td>7224</td></tr>",
                            "<tr><td>Jan Brett</td><td>The Hat</td><td>4.25</td><td>7224</td></tr>",
                            "<tr><td>Clement C. Moore, Jan Brett</td><td>The Night Before Christmas</td><td>4.36</td><td>7224</td></tr>",
                            "<tr><td>Fannie Flagg</td><td>A Redbird Christmas</td><td>3.86</td><td>7224</td></tr>",
                            "<tr><td>Susan Cooper</td><td>The Dark Is Rising (The Dark is Rising, #2)</td><td>4.07</td><td>7224</td></tr>",
                            "<tr><td>Jane Yolen, John Schoenherr</td><td>Owl Moon</td><td>4.2</td><td>7224</td></tr>",
                            "<tr><td>Richard Paul Evans</td><td>The Locket (The Locket, #1)</td><td>4.1</td><td>7224</td></tr>",
                            "<tr><td>J.D. Robb</td><td>Holiday in Death (In Death, #7)</td><td>4.31</td><td>7224</td></tr>",
                            "<tr><td>J.D. Robb</td><td>Memory in Death (In Death, #22)</td><td>4.31</td><td>7224</td></tr>",
                            "<tr><td>Barbara Robinson</td><td>The Best Christmas Pageant Ever (The Herdmans #1)</td><td>4.18</td><td>7224</td></tr>",
                            "<tr><td>Ezra Jack Keats</td><td>The Snowy Day</td><td>4.13</td><td>7224</td></tr>",
                            "<tr><td>Hans Christian Andersen, Rachel Isadora</td><td>The Little Match Girl</td><td>4.08</td><td>7224</td></tr>",
                            "<tr><td>Jacqueline Briggs Martin, Mary Azarian</td><td>Snowflake Bentley</td><td>4.16</td><td>7224</td></tr>",
                            "<tr><td>Louise Penny</td><td>A Fatal Grace (Chief Inspector Armand Gamache, #2)</td><td>4.11</td><td>7224</td></tr>",
                            "<tr><td>Chris Van Allsburg</td><td>The Polar Express</td><td>4.29</td><td>7224</td></tr>",
                            "<tr><td>Diane Muldrow</td><td>Frosty the Snowman (Frosty the Snowman)</td><td>4.34</td><td>7224</td></tr>",
                            "<tr><td>Raymond Briggs</td><td>The Snowman</td><td>4.28</td><td>7224</td></tr>",
                            "<tr><td>Dodie Smith, Michael Dooling</td><td>The 101 Dalmatians (The Hundred and One Dalmatians, #1)</td><td>4.11</td><td>7224</td></tr>",
                            "<tr><td>Orson Scott Card</td><td>A War of Gifts (Ender's Saga, #1.1)</td><td>3.66</td><td>7224</td></tr>",
                            "<tr><td>Caralyn Buehner, Mark Buehner</td><td>Snowmen at Night</td><td>4.23</td><td>7224</td></tr>",
                            "<tr><td>Laura Joffe Numeroff, Felicia Bond</td><td>If You Take a Mouse to the Movies</td><td>4.16</td><td>7224</td></tr>",
                            "<tr><td>Arnold Lobel</td><td>Frog and Toad All Year (Frog and Toad, #3)</td><td>4.34</td><td>7224</td></tr>",
                            "<tr><td>Jan Brett</td><td>The Mitten</td><td>4.23</td><td>7224</td></tr>",
                            "<tr><td>Barbara Shook Hazen, Robert Lewis May, Richard Scarry</td><td>Rudolph the Red-Nosed Reindeer</td><td>4.3</td><td>7224</td></tr>",
                            "<tr><td>Charles M. Schulz</td><td>A Charlie Brown Christmas</td><td>4.48</td><td>7224</td></tr>",
                            "<tr><td>Jason F. Wright</td><td>The Wednesday Letters</td><td>3.61</td><td>7224</td></tr>",
                            "<tr><td>Jane Werner Watson, Corinne Malvern</td><td>Frosty the Snow Man</td><td>4.25</td><td>7224</td></tr>",
                            "<tr><td>Glenn Beck</td><td>The Christmas Sweater</td><td>3.79</td><td>7224</td></tr>",
                            "<tr><td>Jacqueline Winspear, Orlagh Cassidy</td><td>Among the Mad (Maisie Dobbs, #6)</td><td>4.1</td><td>7224</td></tr>",
                            "<tr><td>Cecelia Ahern</td><td>The Gift</td><td>3.68</td><td>7224</td></tr>",
                            "<tr><td>Richard Paul Evans</td><td>The Christmas List</td><td>4.17</td><td>7224</td></tr>",
                            "<tr><td>Rachel Cohn, David Levithan</td><td>Dash &amp; Lily's Book of Dares (Dash &amp; Lily, #1)</td><td>3.82</td><td>7224</td></tr>",
                            "<tr><td>Jill Shalvis</td><td>Simply Irresistible (Lucky Harbor, #1)</td><td>3.92</td><td>7224</td></tr>",
                            "<tr><td>Yotam Ottolenghi</td><td>Plenty</td><td>4.32</td><td>7224</td></tr>",
                            "<tr><td>Wally Lamb</td><td>Wishin' and Hopin'</td><td>3.52</td><td>7224</td></tr>",
                            "<tr><td>Dinah Bucholz</td><td>The Unofficial Harry Potter Cookbook: From Cauldron Cakes to Knickerbocker Glory--More Than 150 Magical Recipes for Wizards and Non-Wizards Alike (Unofficial Cookbook)</td><td>4.1</td><td>7224</td></tr>",
                            "<tr><td>Lynsay Sands, Jeaniene Frost</td><td>The Bite Before Christmas (Argeneau, #15.5; Night Huntress, #6.5)</td><td>4.16</td><td>7224</td></tr>",
                            "<tr><td>James Patterson, Richard DiLallo</td><td>The Christmas Wedding</td><td>3.32</td><td>7224</td></tr>",
                            "<tr><td>Jeff Kinney</td><td>Cabin Fever (Diary of a Wimpy Kid, #6)</td><td>4.21</td><td>7224</td></tr>",
                            "<tr><td>Alan Bradley</td><td>I Am Half-Sick of Shadows (Flavia de Luce, #4)</td><td>4.09</td><td>7224</td></tr>",
                            "<tr><td>James Patterson</td><td>Merry Christmas, Alex Cross (Alex Cross, #19)</td><td>3.85</td><td>7224</td></tr>",
                            "<tr><td>Joe Hill</td><td>NOS4A2</td><td>4.06</td><td>7224</td></tr>",
                            "<tr><td>Catherine Bybee</td><td>Not Quite Dating (Not Quite, #1)</td><td>3.88</td><td>7224</td></tr>",
                            "<tr><td>J. Lynn, Jennifer L. Armentrout</td><td>Frigid (Frigid, #1)</td><td>3.79</td><td>7224</td></tr>",
                            "<tr><td>Louise Penny</td><td>How the Light Gets In (Chief Inspector Armand Gamache, #9)</td><td>4.41</td><td>7224</td></tr>",
                            "<tr><td>Rainbow Rowell</td><td>Landline</td><td>3.55</td><td>7224</td></tr>",
                            "<tr><td>Stephanie Perkins, Holly Black, Ally Carter, Matt de la Pena, Gayle Forman, Jenny Han, David Levithan, Kelly Link, Myra McEntire, Rainbow Rowell, Laini Taylor, Kiersten White</td><td>My True Love Gave to Me: Twelve Holiday Stories</td><td>3.73</td><td>7224</td></tr>",
                            "<tr><td>Elin Hilderbrand</td><td>Winter Street (Winter, #1)</td><td>3.67</td><td>7224</td></tr>",
                            "<tr><td>J.D. Robb</td><td>Festive in Death (In Death, #39)</td><td>4.26</td><td>7224</td></tr>",
                            "<tr><td>Elin Hilderbrand</td><td>Winter Stroll (Winter #2)</td><td>3.7</td><td>7224</td></tr>",
                            "</table>"
                        ]
                    }
                }
            ],
            "execution_count": 4
        },
        {
            "cell_type": "markdown",
            "source": [
                "### **Summary of event 1:**"
            ],
            "metadata": {
                "azdata_cell_guid": "3bc72d4c-077b-42d3-9528-9aff8e7b6cf3"
            },
            "attachments": {}
        },
        {
            "cell_type": "code",
            "source": [
                "-- Event 2 Query\r\n",
                "SELECT t.tag_id, t.tag_name, COUNT(*) AS Total\r\n",
                "FROM BooksDB.dbo.tags AS t \r\n",
                "JOIN BooksDB.dbo.book_tags AS bt\r\n",
                "ON t.tag_id = bt.tag_id\r\n",
                "GROUP BY t.tag_name, t.tag_id\r\n",
                "HAVING t.tag_name LIKE '%native%american%'\r\n",
                "ORDER by Total DESC;"
            ],
            "metadata": {
                "azdata_cell_guid": "dca0a98f-065f-4b0e-9d93-fcb01cad668c",
                "language": "sql"
            },
            "outputs": [
                {
                    "output_type": "display_data",
                    "data": {
                        "text/html": "(13 rows affected)"
                    },
                    "metadata": {}
                },
                {
                    "output_type": "display_data",
                    "data": {
                        "text/html": "Total execution time: 00:00:00.411"
                    },
                    "metadata": {}
                },
                {
                    "output_type": "execute_result",
                    "metadata": {},
                    "execution_count": 7,
                    "data": {
                        "application/vnd.dataresource+json": {
                            "schema": {
                                "fields": [
                                    {
                                        "name": "tag_id"
                                    },
                                    {
                                        "name": "tag_name"
                                    },
                                    {
                                        "name": "Total"
                                    }
                                ]
                            },
                            "data": [
                                {
                                    "0": "21166",
                                    "1": "native-american",
                                    "2": "71"
                                },
                                {
                                    "0": "21175",
                                    "1": "native-americans",
                                    "2": "37"
                                },
                                {
                                    "0": "21172",
                                    "1": "native-american-lit",
                                    "2": "11"
                                },
                                {
                                    "0": "21173",
                                    "1": "native-american-literature",
                                    "2": "9"
                                },
                                {
                                    "0": "21169",
                                    "1": "native-american-fiction",
                                    "2": "7"
                                },
                                {
                                    "0": "11806",
                                    "1": "fiction-native-american",
                                    "2": "4"
                                },
                                {
                                    "0": "21170",
                                    "1": "native-american-history",
                                    "2": "4"
                                },
                                {
                                    "0": "21167",
                                    "1": "native-american-authors",
                                    "2": "2"
                                },
                                {
                                    "0": "21174",
                                    "1": "native-american-studies",
                                    "2": "2"
                                },
                                {
                                    "0": "9564",
                                    "1": "discrimination-of-native-americans",
                                    "2": "1"
                                },
                                {
                                    "0": "21168",
                                    "1": "native-american-culture",
                                    "2": "1"
                                },
                                {
                                    "0": "21171",
                                    "1": "native-american-indian",
                                    "2": "1"
                                },
                                {
                                    "0": "21177",
                                    "1": "nativeamerican",
                                    "2": "1"
                                }
                            ]
                        },
                        "text/html": [
                            "<table>",
                            "<tr><th>tag_id</th><th>tag_name</th><th>Total</th></tr>",
                            "<tr><td>21166</td><td>native-american</td><td>71</td></tr>",
                            "<tr><td>21175</td><td>native-americans</td><td>37</td></tr>",
                            "<tr><td>21172</td><td>native-american-lit</td><td>11</td></tr>",
                            "<tr><td>21173</td><td>native-american-literature</td><td>9</td></tr>",
                            "<tr><td>21169</td><td>native-american-fiction</td><td>7</td></tr>",
                            "<tr><td>11806</td><td>fiction-native-american</td><td>4</td></tr>",
                            "<tr><td>21170</td><td>native-american-history</td><td>4</td></tr>",
                            "<tr><td>21167</td><td>native-american-authors</td><td>2</td></tr>",
                            "<tr><td>21174</td><td>native-american-studies</td><td>2</td></tr>",
                            "<tr><td>9564</td><td>discrimination-of-native-americans</td><td>1</td></tr>",
                            "<tr><td>21168</td><td>native-american-culture</td><td>1</td></tr>",
                            "<tr><td>21171</td><td>native-american-indian</td><td>1</td></tr>",
                            "<tr><td>21177</td><td>nativeamerican</td><td>1</td></tr>",
                            "</table>"
                        ]
                    }
                }
            ],
            "execution_count": 7
        },
        {
            "cell_type": "code",
            "source": [
                "SELECT b.authors, b.title, b.average_rating, bt.tag_id\r\n",
                "FROM BooksDB.dbo.books as b \r\n",
                "JOIN BooksDB.dbo.book_tags as bt \r\n",
                "ON b.best_book_id = bt.goodreads_book_id\r\n",
                "WHERE bt.tag_id LIKE 21166;"
            ],
            "metadata": {
                "azdata_cell_guid": "3aaae3a8-eff7-4b37-8970-2d913a67239b",
                "language": "sql"
            },
            "outputs": [
                {
                    "output_type": "display_data",
                    "data": {
                        "text/html": "(70 rows affected)"
                    },
                    "metadata": {}
                },
                {
                    "output_type": "display_data",
                    "data": {
                        "text/html": "Total execution time: 00:00:00.228"
                    },
                    "metadata": {}
                },
                {
                    "output_type": "execute_result",
                    "metadata": {},
                    "execution_count": 8,
                    "data": {
                        "application/vnd.dataresource+json": {
                            "schema": {
                                "fields": [
                                    {
                                        "name": "authors"
                                    },
                                    {
                                        "name": "title"
                                    },
                                    {
                                        "name": "average_rating"
                                    },
                                    {
                                        "name": "tag_id"
                                    }
                                ]
                            },
                            "data": [
                                {
                                    "0": "Nathaniel Philbrick",
                                    "1": "Mayflower: A Story of Courage, Community, and War",
                                    "2": "3.86",
                                    "3": "21166"
                                },
                                {
                                    "0": "Sherman Alexie",
                                    "1": "Reservation Blues",
                                    "2": "3.98",
                                    "3": "21166"
                                },
                                {
                                    "0": "Orson Scott Card",
                                    "1": "Red Prophet (Tales of Alvin Maker, #2)",
                                    "2": "3.78",
                                    "3": "21166"
                                },
                                {
                                    "0": "Carlos Castaneda",
                                    "1": "A Separate Reality",
                                    "2": "4.06",
                                    "3": "21166"
                                },
                                {
                                    "0": "Barbara Kingsolver",
                                    "1": "Pigs in Heaven",
                                    "2": "3.97",
                                    "3": "21166"
                                },
                                {
                                    "0": "Michael Dorris",
                                    "1": "A Yellow Raft in Blue Water",
                                    "2": "3.84",
                                    "3": "21166"
                                },
                                {
                                    "0": "Barbara Kingsolver",
                                    "1": "The Bean Trees (Greer Family, #1)",
                                    "2": "3.94",
                                    "3": "21166"
                                },
                                {
                                    "0": "Christopher Moore",
                                    "1": "Coyote Blue",
                                    "2": "3.75",
                                    "3": "21166"
                                },
                                {
                                    "0": "Jim Fergus",
                                    "1": "One Thousand White Women: The Journals of May Dodd (One Thousand White Women#1)",
                                    "2": "3.88",
                                    "3": "21166"
                                },
                                {
                                    "0": "Charles Frazier",
                                    "1": "Thirteen Moons",
                                    "2": "3.64",
                                    "3": "21166"
                                },
                                {
                                    "0": "Black Elk, John G. Neihardt",
                                    "1": "Black Elk Speaks: Being the Life Story of a Holy Man of the Oglala Sioux",
                                    "2": "4.13",
                                    "3": "21166"
                                },
                                {
                                    "0": "James Fenimore Cooper",
                                    "1": "The Last of the Mohicans (The Leatherstocking Tales #2)",
                                    "2": "3.69",
                                    "3": "21166"
                                },
                                {
                                    "0": "Charles C. Mann",
                                    "1": "1491: New Revelations of the Americas Before Columbus",
                                    "2": "4.01",
                                    "3": "21166"
                                },
                                {
                                    "0": "Stephen E. Ambrose",
                                    "1": "Undaunted Courage: The Pioneering First Mission to Explore America's Wild Frontier",
                                    "2": "4.22",
                                    "3": "21166"
                                },
                                {
                                    "0": "Billie Letts",
                                    "1": "The Honk and Holler Opening Soon",
                                    "2": "3.93",
                                    "3": "21166"
                                },
                                {
                                    "0": "Sherman Alexie",
                                    "1": "Flight",
                                    "2": "3.89",
                                    "3": "21166"
                                },
                                {
                                    "0": "Sherman Alexie",
                                    "1": "The Lone Ranger and Tonto Fistfight in Heaven",
                                    "2": "4.09",
                                    "3": "21166"
                                },
                                {
                                    "0": "Sharon Creech",
                                    "1": "Walk Two Moons",
                                    "2": "3.95",
                                    "3": "21166"
                                },
                                {
                                    "0": "William Least Heat-Moon",
                                    "1": "Blue Highways",
                                    "2": "4",
                                    "3": "21166"
                                },
                                {
                                    "0": "Ted Andrews, Winston Allen, Margaret K. Andrews",
                                    "1": "Animal-Speak: The Spiritual & Magical Powers of Creatures Great & Small",
                                    "2": "4.25",
                                    "3": "21166"
                                },
                                {
                                    "0": "Sara Donati",
                                    "1": "Into the Wilderness (Wilderness, #1)",
                                    "2": "4.1",
                                    "3": "21166"
                                },
                                {
                                    "0": "Sara Donati",
                                    "1": "Lake in the Clouds (Wilderness, #3)",
                                    "2": "4.31",
                                    "3": "21166"
                                },
                                {
                                    "0": "Dee Brown",
                                    "1": "Bury My Heart at Wounded Knee: An Indian History of the American West",
                                    "2": "4.21",
                                    "3": "21166"
                                },
                                {
                                    "0": "Barbara Kingsolver",
                                    "1": "Animal Dreams",
                                    "2": "4.05",
                                    "3": "21166"
                                },
                                {
                                    "0": "Carlos Castaneda",
                                    "1": "The Teachings of Don Juan: A Yaqui Way of Knowledge ",
                                    "2": "3.94",
                                    "3": "21166"
                                },
                                {
                                    "0": "Louise Erdrich",
                                    "1": "The Beet Queen",
                                    "2": "3.89",
                                    "3": "21166"
                                },
                                {
                                    "0": "Louise Erdrich",
                                    "1": "Love Medicine",
                                    "2": "3.98",
                                    "3": "21166"
                                },
                                {
                                    "0": "Julie Garwood",
                                    "1": "The Lion's Lady (Crown's Spies, #1)",
                                    "2": "4.16",
                                    "3": "21166"
                                },
                                {
                                    "0": "Craig Johnson",
                                    "1": "The Cold Dish (Walt Longmire, #1)",
                                    "2": "4.14",
                                    "3": "21166"
                                },
                                {
                                    "0": "Forrest Carter",
                                    "1": "The Education of Little Tree",
                                    "2": "4.09",
                                    "3": "21166"
                                },
                                {
                                    "0": "Lynne Reid Banks",
                                    "1": "The Indian in the Cupboard (The Indian in the Cupboard, #1)",
                                    "2": "3.89",
                                    "3": "21166"
                                },
                                {
                                    "0": "James A. Michener",
                                    "1": "Centennial",
                                    "2": "4.21",
                                    "3": "21166"
                                },
                                {
                                    "0": "Douglas Preston, Lincoln Child",
                                    "1": "Thunderhead",
                                    "2": "4.09",
                                    "3": "21166"
                                },
                                {
                                    "0": "James Alexander Thom",
                                    "1": "Follow the River",
                                    "2": "4.21",
                                    "3": "21166"
                                },
                                {
                                    "0": "Louise Erdrich",
                                    "1": "The Master Butchers Singing Club",
                                    "2": "4.02",
                                    "3": "21166"
                                },
                                {
                                    "0": "Ben Mikaelsen",
                                    "1": "Touching Spirit Bear (Spirit Bear, #1)",
                                    "2": "3.85",
                                    "3": "21166"
                                },
                                {
                                    "0": "Benedict Freedman, Nancy Freedman",
                                    "1": "Mrs. Mike (Mrs. Mike, #1)",
                                    "2": "4.13",
                                    "3": "21166"
                                },
                                {
                                    "0": "Scott O'Dell",
                                    "1": "Island of the Blue Dolphins (Island of the Blue Dolphins, #1)",
                                    "2": "3.8",
                                    "3": "21166"
                                },
                                {
                                    "0": "Craig Johnson",
                                    "1": "Death Without Company (Walt Longmire, #2)",
                                    "2": "4.23",
                                    "3": "21166"
                                },
                                {
                                    "0": "Anna Lee Waldo",
                                    "1": "Sacajawea (Lewis & Clark Expedition)",
                                    "2": "4.23",
                                    "3": "21166"
                                },
                                {
                                    "0": "Patricia Briggs, Eileen Wilks, Karen Chance, Sunny",
                                    "1": "On the Prowl (Alpha & Omega, #0.5)",
                                    "2": "4.05",
                                    "3": "21166"
                                },
                                {
                                    "0": "Michelle Paver, Geoff Taylor",
                                    "1": "Wolf Brother (Chronicles of Ancient Darkness, #1)",
                                    "2": "4.15",
                                    "3": "21166"
                                },
                                {
                                    "0": "Jean Craighead George, John Schoenherr",
                                    "1": "Julie of the Wolves (Julie of the Wolves, #1)",
                                    "2": "3.79",
                                    "3": "21166"
                                },
                                {
                                    "0": "Michael Blake",
                                    "1": "Dances with Wolves (Dances with Wolves, #1)",
                                    "2": "4.19",
                                    "3": "21166"
                                },
                                {
                                    "0": "Willa Cather",
                                    "1": "Death Comes for the Archbishop",
                                    "2": "3.88",
                                    "3": "21166"
                                },
                                {
                                    "0": "Gary Jennings",
                                    "1": "Aztec (Aztec, #1)",
                                    "2": "4.19",
                                    "3": "21166"
                                },
                                {
                                    "0": "Leslie Marmon Silko",
                                    "1": "Ceremony",
                                    "2": "3.73",
                                    "3": "21166"
                                },
                                {
                                    "0": "Sherman Alexie, Ellen Forney",
                                    "1": "The Absolutely True Diary of a Part-Time Indian",
                                    "2": "4.11",
                                    "3": "21166"
                                },
                                {
                                    "0": "Sara Donati",
                                    "1": "Dawn on a Distant Shore (Wilderness, #2)",
                                    "2": "4.19",
                                    "3": "21166"
                                },
                                {
                                    "0": "Joseph Boyden",
                                    "1": "Three Day Road",
                                    "2": "4.31",
                                    "3": "21166"
                                },
                                {
                                    "0": "Tony Hillerman",
                                    "1": "The Blessing Way (Leaphorn & Chee, #1)",
                                    "2": "4.06",
                                    "3": "21166"
                                },
                                {
                                    "0": "Sarah Vowell",
                                    "1": "The Wordy Shipmates",
                                    "2": "3.66",
                                    "3": "21166"
                                },
                                {
                                    "0": "Joseph Boyden",
                                    "1": "Through Black Spruce",
                                    "2": "4.11",
                                    "3": "21166"
                                },
                                {
                                    "0": "Patricia Briggs",
                                    "1": "Hunting Ground (Alpha & Omega, #2)",
                                    "2": "4.27",
                                    "3": "21166"
                                },
                                {
                                    "0": "Faith Hunter",
                                    "1": "Skinwalker (Jane Yellowrock, #1)",
                                    "2": "3.89",
                                    "3": "21166"
                                },
                                {
                                    "0": "Faith Hunter",
                                    "1": "Blood Cross (Jane Yellowrock, #2)",
                                    "2": "4.13",
                                    "3": "21166"
                                },
                                {
                                    "0": "S.C. Gwynne",
                                    "1": "Empire of the Summer Moon: Quanah Parker and the Rise and Fall of the Comanches, the Most Powerful Indian Tribe in American History",
                                    "2": "4.13",
                                    "3": "21166"
                                },
                                {
                                    "0": "Patricia Briggs",
                                    "1": "Fair Game (Alpha & Omega, #3)",
                                    "2": "4.34",
                                    "3": "21166"
                                },
                                {
                                    "0": "Patricia Briggs",
                                    "1": "River Marked (Mercy Thompson, #6)",
                                    "2": "4.26",
                                    "3": "21166"
                                },
                                {
                                    "0": "Faith Hunter",
                                    "1": "Mercy Blade (Jane Yellowrock, #3)",
                                    "2": "4.21",
                                    "3": "21166"
                                },
                                {
                                    "0": "Geraldine Brooks",
                                    "1": "Caleb's Crossing",
                                    "2": "3.81",
                                    "3": "21166"
                                },
                                {
                                    "0": "Charles C. Mann",
                                    "1": "1493: Uncovering the New World Columbus Created",
                                    "2": "4.05",
                                    "3": "21166"
                                },
                                {
                                    "0": "Louise Erdrich",
                                    "1": "The Round House",
                                    "2": "3.91",
                                    "3": "21166"
                                },
                                {
                                    "0": "Philipp Meyer",
                                    "1": "The Son",
                                    "2": "3.98",
                                    "3": "21166"
                                },
                                {
                                    "0": "Patricia Briggs",
                                    "1": "Night Broken (Mercy Thompson, #8)",
                                    "2": "4.42",
                                    "3": "21166"
                                },
                                {
                                    "0": "Joseph Boyden",
                                    "1": "The Orenda",
                                    "2": "4.24",
                                    "3": "21166"
                                },
                                {
                                    "0": "Patricia Briggs",
                                    "1": "Dead Heat (Alpha & Omega #4)",
                                    "2": "4.27",
                                    "3": "21166"
                                },
                                {
                                    "0": "Patricia Briggs",
                                    "1": "Fire Touched (Mercy Thompson, #9)",
                                    "2": "4.35",
                                    "3": "21166"
                                },
                                {
                                    "0": "Paulette Jiles",
                                    "1": "News of the World",
                                    "2": "4.14",
                                    "3": "21166"
                                },
                                {
                                    "0": "Louise Erdrich",
                                    "1": "LaRose",
                                    "2": "3.86",
                                    "3": "21166"
                                }
                            ]
                        },
                        "text/html": [
                            "<table>",
                            "<tr><th>authors</th><th>title</th><th>average_rating</th><th>tag_id</th></tr>",
                            "<tr><td>Nathaniel Philbrick</td><td>Mayflower: A Story of Courage, Community, and War</td><td>3.86</td><td>21166</td></tr>",
                            "<tr><td>Sherman Alexie</td><td>Reservation Blues</td><td>3.98</td><td>21166</td></tr>",
                            "<tr><td>Orson Scott Card</td><td>Red Prophet (Tales of Alvin Maker, #2)</td><td>3.78</td><td>21166</td></tr>",
                            "<tr><td>Carlos Castaneda</td><td>A Separate Reality</td><td>4.06</td><td>21166</td></tr>",
                            "<tr><td>Barbara Kingsolver</td><td>Pigs in Heaven</td><td>3.97</td><td>21166</td></tr>",
                            "<tr><td>Michael Dorris</td><td>A Yellow Raft in Blue Water</td><td>3.84</td><td>21166</td></tr>",
                            "<tr><td>Barbara Kingsolver</td><td>The Bean Trees (Greer Family, #1)</td><td>3.94</td><td>21166</td></tr>",
                            "<tr><td>Christopher Moore</td><td>Coyote Blue</td><td>3.75</td><td>21166</td></tr>",
                            "<tr><td>Jim Fergus</td><td>One Thousand White Women: The Journals of May Dodd (One Thousand White Women#1)</td><td>3.88</td><td>21166</td></tr>",
                            "<tr><td>Charles Frazier</td><td>Thirteen Moons</td><td>3.64</td><td>21166</td></tr>",
                            "<tr><td>Black Elk, John G. Neihardt</td><td>Black Elk Speaks: Being the Life Story of a Holy Man of the Oglala Sioux</td><td>4.13</td><td>21166</td></tr>",
                            "<tr><td>James Fenimore Cooper</td><td>The Last of the Mohicans (The Leatherstocking Tales #2)</td><td>3.69</td><td>21166</td></tr>",
                            "<tr><td>Charles C. Mann</td><td>1491: New Revelations of the Americas Before Columbus</td><td>4.01</td><td>21166</td></tr>",
                            "<tr><td>Stephen E. Ambrose</td><td>Undaunted Courage: The Pioneering First Mission to Explore America's Wild Frontier</td><td>4.22</td><td>21166</td></tr>",
                            "<tr><td>Billie Letts</td><td>The Honk and Holler Opening Soon</td><td>3.93</td><td>21166</td></tr>",
                            "<tr><td>Sherman Alexie</td><td>Flight</td><td>3.89</td><td>21166</td></tr>",
                            "<tr><td>Sherman Alexie</td><td>The Lone Ranger and Tonto Fistfight in Heaven</td><td>4.09</td><td>21166</td></tr>",
                            "<tr><td>Sharon Creech</td><td>Walk Two Moons</td><td>3.95</td><td>21166</td></tr>",
                            "<tr><td>William Least Heat-Moon</td><td>Blue Highways</td><td>4</td><td>21166</td></tr>",
                            "<tr><td>Ted Andrews, Winston Allen, Margaret K. Andrews</td><td>Animal-Speak: The Spiritual &amp; Magical Powers of Creatures Great &amp; Small</td><td>4.25</td><td>21166</td></tr>",
                            "<tr><td>Sara Donati</td><td>Into the Wilderness (Wilderness, #1)</td><td>4.1</td><td>21166</td></tr>",
                            "<tr><td>Sara Donati</td><td>Lake in the Clouds (Wilderness, #3)</td><td>4.31</td><td>21166</td></tr>",
                            "<tr><td>Dee Brown</td><td>Bury My Heart at Wounded Knee: An Indian History of the American West</td><td>4.21</td><td>21166</td></tr>",
                            "<tr><td>Barbara Kingsolver</td><td>Animal Dreams</td><td>4.05</td><td>21166</td></tr>",
                            "<tr><td>Carlos Castaneda</td><td>The Teachings of Don Juan: A Yaqui Way of Knowledge </td><td>3.94</td><td>21166</td></tr>",
                            "<tr><td>Louise Erdrich</td><td>The Beet Queen</td><td>3.89</td><td>21166</td></tr>",
                            "<tr><td>Louise Erdrich</td><td>Love Medicine</td><td>3.98</td><td>21166</td></tr>",
                            "<tr><td>Julie Garwood</td><td>The Lion's Lady (Crown's Spies, #1)</td><td>4.16</td><td>21166</td></tr>",
                            "<tr><td>Craig Johnson</td><td>The Cold Dish (Walt Longmire, #1)</td><td>4.14</td><td>21166</td></tr>",
                            "<tr><td>Forrest Carter</td><td>The Education of Little Tree</td><td>4.09</td><td>21166</td></tr>",
                            "<tr><td>Lynne Reid Banks</td><td>The Indian in the Cupboard (The Indian in the Cupboard, #1)</td><td>3.89</td><td>21166</td></tr>",
                            "<tr><td>James A. Michener</td><td>Centennial</td><td>4.21</td><td>21166</td></tr>",
                            "<tr><td>Douglas Preston, Lincoln Child</td><td>Thunderhead</td><td>4.09</td><td>21166</td></tr>",
                            "<tr><td>James Alexander Thom</td><td>Follow the River</td><td>4.21</td><td>21166</td></tr>",
                            "<tr><td>Louise Erdrich</td><td>The Master Butchers Singing Club</td><td>4.02</td><td>21166</td></tr>",
                            "<tr><td>Ben Mikaelsen</td><td>Touching Spirit Bear (Spirit Bear, #1)</td><td>3.85</td><td>21166</td></tr>",
                            "<tr><td>Benedict Freedman, Nancy Freedman</td><td>Mrs. Mike (Mrs. Mike, #1)</td><td>4.13</td><td>21166</td></tr>",
                            "<tr><td>Scott O'Dell</td><td>Island of the Blue Dolphins (Island of the Blue Dolphins, #1)</td><td>3.8</td><td>21166</td></tr>",
                            "<tr><td>Craig Johnson</td><td>Death Without Company (Walt Longmire, #2)</td><td>4.23</td><td>21166</td></tr>",
                            "<tr><td>Anna Lee Waldo</td><td>Sacajawea (Lewis &amp; Clark Expedition)</td><td>4.23</td><td>21166</td></tr>",
                            "<tr><td>Patricia Briggs, Eileen Wilks, Karen Chance, Sunny</td><td>On the Prowl (Alpha &amp; Omega, #0.5)</td><td>4.05</td><td>21166</td></tr>",
                            "<tr><td>Michelle Paver, Geoff Taylor</td><td>Wolf Brother (Chronicles of Ancient Darkness, #1)</td><td>4.15</td><td>21166</td></tr>",
                            "<tr><td>Jean Craighead George, John Schoenherr</td><td>Julie of the Wolves (Julie of the Wolves, #1)</td><td>3.79</td><td>21166</td></tr>",
                            "<tr><td>Michael Blake</td><td>Dances with Wolves (Dances with Wolves, #1)</td><td>4.19</td><td>21166</td></tr>",
                            "<tr><td>Willa Cather</td><td>Death Comes for the Archbishop</td><td>3.88</td><td>21166</td></tr>",
                            "<tr><td>Gary Jennings</td><td>Aztec (Aztec, #1)</td><td>4.19</td><td>21166</td></tr>",
                            "<tr><td>Leslie Marmon Silko</td><td>Ceremony</td><td>3.73</td><td>21166</td></tr>",
                            "<tr><td>Sherman Alexie, Ellen Forney</td><td>The Absolutely True Diary of a Part-Time Indian</td><td>4.11</td><td>21166</td></tr>",
                            "<tr><td>Sara Donati</td><td>Dawn on a Distant Shore (Wilderness, #2)</td><td>4.19</td><td>21166</td></tr>",
                            "<tr><td>Joseph Boyden</td><td>Three Day Road</td><td>4.31</td><td>21166</td></tr>",
                            "<tr><td>Tony Hillerman</td><td>The Blessing Way (Leaphorn &amp; Chee, #1)</td><td>4.06</td><td>21166</td></tr>",
                            "<tr><td>Sarah Vowell</td><td>The Wordy Shipmates</td><td>3.66</td><td>21166</td></tr>",
                            "<tr><td>Joseph Boyden</td><td>Through Black Spruce</td><td>4.11</td><td>21166</td></tr>",
                            "<tr><td>Patricia Briggs</td><td>Hunting Ground (Alpha &amp; Omega, #2)</td><td>4.27</td><td>21166</td></tr>",
                            "<tr><td>Faith Hunter</td><td>Skinwalker (Jane Yellowrock, #1)</td><td>3.89</td><td>21166</td></tr>",
                            "<tr><td>Faith Hunter</td><td>Blood Cross (Jane Yellowrock, #2)</td><td>4.13</td><td>21166</td></tr>",
                            "<tr><td>S.C. Gwynne</td><td>Empire of the Summer Moon: Quanah Parker and the Rise and Fall of the Comanches, the Most Powerful Indian Tribe in American History</td><td>4.13</td><td>21166</td></tr>",
                            "<tr><td>Patricia Briggs</td><td>Fair Game (Alpha &amp; Omega, #3)</td><td>4.34</td><td>21166</td></tr>",
                            "<tr><td>Patricia Briggs</td><td>River Marked (Mercy Thompson, #6)</td><td>4.26</td><td>21166</td></tr>",
                            "<tr><td>Faith Hunter</td><td>Mercy Blade (Jane Yellowrock, #3)</td><td>4.21</td><td>21166</td></tr>",
                            "<tr><td>Geraldine Brooks</td><td>Caleb's Crossing</td><td>3.81</td><td>21166</td></tr>",
                            "<tr><td>Charles C. Mann</td><td>1493: Uncovering the New World Columbus Created</td><td>4.05</td><td>21166</td></tr>",
                            "<tr><td>Louise Erdrich</td><td>The Round House</td><td>3.91</td><td>21166</td></tr>",
                            "<tr><td>Philipp Meyer</td><td>The Son</td><td>3.98</td><td>21166</td></tr>",
                            "<tr><td>Patricia Briggs</td><td>Night Broken (Mercy Thompson, #8)</td><td>4.42</td><td>21166</td></tr>",
                            "<tr><td>Joseph Boyden</td><td>The Orenda</td><td>4.24</td><td>21166</td></tr>",
                            "<tr><td>Patricia Briggs</td><td>Dead Heat (Alpha &amp; Omega #4)</td><td>4.27</td><td>21166</td></tr>",
                            "<tr><td>Patricia Briggs</td><td>Fire Touched (Mercy Thompson, #9)</td><td>4.35</td><td>21166</td></tr>",
                            "<tr><td>Paulette Jiles</td><td>News of the World</td><td>4.14</td><td>21166</td></tr>",
                            "<tr><td>Louise Erdrich</td><td>LaRose</td><td>3.86</td><td>21166</td></tr>",
                            "</table>"
                        ]
                    }
                }
            ],
            "execution_count": 8
        },
        {
            "cell_type": "markdown",
            "source": [
                "### **Summary of event 2:**"
            ],
            "metadata": {
                "azdata_cell_guid": "99d518dc-cd8b-42d6-9a9d-708771c9aa99"
            },
            "attachments": {}
        }
    ]
}